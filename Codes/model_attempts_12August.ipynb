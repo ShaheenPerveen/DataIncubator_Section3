{
 "cells": [
  {
   "cell_type": "code",
   "execution_count": 126,
   "metadata": {},
   "outputs": [],
   "source": [
    "import pandas as pd\n",
    "import numpy as np\n",
    "import seaborn as sns\n",
    "import matplotlib.pyplot as plt\n",
    "from sklearn.ensemble import VotingClassifier\n",
    "from sklearn.ensemble import RandomForestClassifier\n",
    "from sklearn.tree import DecisionTreeClassifier\n",
    "from sklearn.neighbors import KNeighborsClassifier\n",
    "from sklearn.linear_model import LogisticRegression\n",
    "from sklearn.ensemble import GradientBoostingClassifier\n",
    "from sklearn.neural_network import MLPClassifier\n",
    "from sklearn.metrics import classification_report, confusion_matrix\n",
    "from sklearn.model_selection import StratifiedKFold\n",
    "from sklearn.naive_bayes import GaussianNB\n",
    "from sklearn.svm import SVC\n",
    "\n",
    "from sklearn import preprocessing\n",
    "from sklearn import metrics\n",
    "from sklearn.model_selection import train_test_split\n",
    "from sklearn.model_selection import GridSearchCV\n",
    "from sklearn.model_selection import StratifiedShuffleSplit\n",
    "from collections import Counter"
   ]
  },
  {
   "cell_type": "code",
   "execution_count": 2,
   "metadata": {},
   "outputs": [],
   "source": [
    "appointments = pd.read_csv('D:/DataIncubator_ChestXray/appointment_show_no-show/appointments_withFeatures.csv')"
   ]
  },
  {
   "cell_type": "code",
   "execution_count": 3,
   "metadata": {},
   "outputs": [
    {
     "data": {
      "text/plain": [
       "(110527, 39)"
      ]
     },
     "execution_count": 3,
     "metadata": {},
     "output_type": "execute_result"
    }
   ],
   "source": [
    "appointments.shape"
   ]
  },
  {
   "cell_type": "code",
   "execution_count": 4,
   "metadata": {},
   "outputs": [
    {
     "data": {
      "text/html": [
       "<div>\n",
       "<style scoped>\n",
       "    .dataframe tbody tr th:only-of-type {\n",
       "        vertical-align: middle;\n",
       "    }\n",
       "\n",
       "    .dataframe tbody tr th {\n",
       "        vertical-align: top;\n",
       "    }\n",
       "\n",
       "    .dataframe thead th {\n",
       "        text-align: right;\n",
       "    }\n",
       "</style>\n",
       "<table border=\"1\" class=\"dataframe\">\n",
       "  <thead>\n",
       "    <tr style=\"text-align: right;\">\n",
       "      <th></th>\n",
       "      <th>PatientId</th>\n",
       "      <th>AppointmentID</th>\n",
       "      <th>Gender</th>\n",
       "      <th>ScheduledDay</th>\n",
       "      <th>AppointmentDay</th>\n",
       "      <th>Age</th>\n",
       "      <th>Neighbourhood</th>\n",
       "      <th>Scholarship</th>\n",
       "      <th>Hipertension</th>\n",
       "      <th>Diabetes</th>\n",
       "      <th>...</th>\n",
       "      <th>DaysBeforeAppCat</th>\n",
       "      <th>NoShow</th>\n",
       "      <th>PreviousApp</th>\n",
       "      <th>PreviousNoShow</th>\n",
       "      <th>MissedAppointments</th>\n",
       "      <th>is_ITARARÉ</th>\n",
       "      <th>is_JESUS DE NAZARETH</th>\n",
       "      <th>is_SANTA CECÍLIA</th>\n",
       "      <th>is_SANTA CLARA</th>\n",
       "      <th>is_SANTOS DUMONT</th>\n",
       "    </tr>\n",
       "  </thead>\n",
       "  <tbody>\n",
       "    <tr>\n",
       "      <th>0</th>\n",
       "      <td>2.987250e+13</td>\n",
       "      <td>5642903</td>\n",
       "      <td>F</td>\n",
       "      <td>2016-04-29T18:38:08Z</td>\n",
       "      <td>2016-04-29T00:00:00Z</td>\n",
       "      <td>62</td>\n",
       "      <td>JARDIM DA PENHA</td>\n",
       "      <td>0</td>\n",
       "      <td>1</td>\n",
       "      <td>0</td>\n",
       "      <td>...</td>\n",
       "      <td>&gt; 45 days</td>\n",
       "      <td>False</td>\n",
       "      <td>1</td>\n",
       "      <td>0.0</td>\n",
       "      <td>0.0</td>\n",
       "      <td>0</td>\n",
       "      <td>0</td>\n",
       "      <td>0</td>\n",
       "      <td>0</td>\n",
       "      <td>0</td>\n",
       "    </tr>\n",
       "    <tr>\n",
       "      <th>1</th>\n",
       "      <td>5.589978e+14</td>\n",
       "      <td>5642503</td>\n",
       "      <td>M</td>\n",
       "      <td>2016-04-29T16:08:27Z</td>\n",
       "      <td>2016-04-29T00:00:00Z</td>\n",
       "      <td>56</td>\n",
       "      <td>JARDIM DA PENHA</td>\n",
       "      <td>0</td>\n",
       "      <td>0</td>\n",
       "      <td>0</td>\n",
       "      <td>...</td>\n",
       "      <td>&gt; 45 days</td>\n",
       "      <td>False</td>\n",
       "      <td>1</td>\n",
       "      <td>0.0</td>\n",
       "      <td>0.0</td>\n",
       "      <td>0</td>\n",
       "      <td>0</td>\n",
       "      <td>0</td>\n",
       "      <td>0</td>\n",
       "      <td>0</td>\n",
       "    </tr>\n",
       "    <tr>\n",
       "      <th>2</th>\n",
       "      <td>4.262962e+12</td>\n",
       "      <td>5642549</td>\n",
       "      <td>F</td>\n",
       "      <td>2016-04-29T16:19:04Z</td>\n",
       "      <td>2016-04-29T00:00:00Z</td>\n",
       "      <td>62</td>\n",
       "      <td>MATA DA PRAIA</td>\n",
       "      <td>0</td>\n",
       "      <td>0</td>\n",
       "      <td>0</td>\n",
       "      <td>...</td>\n",
       "      <td>&gt; 45 days</td>\n",
       "      <td>False</td>\n",
       "      <td>1</td>\n",
       "      <td>0.0</td>\n",
       "      <td>0.0</td>\n",
       "      <td>0</td>\n",
       "      <td>0</td>\n",
       "      <td>0</td>\n",
       "      <td>0</td>\n",
       "      <td>0</td>\n",
       "    </tr>\n",
       "    <tr>\n",
       "      <th>3</th>\n",
       "      <td>8.679512e+11</td>\n",
       "      <td>5642828</td>\n",
       "      <td>F</td>\n",
       "      <td>2016-04-29T17:29:31Z</td>\n",
       "      <td>2016-04-29T00:00:00Z</td>\n",
       "      <td>8</td>\n",
       "      <td>PONTAL DE CAMBURI</td>\n",
       "      <td>0</td>\n",
       "      <td>0</td>\n",
       "      <td>0</td>\n",
       "      <td>...</td>\n",
       "      <td>&gt; 45 days</td>\n",
       "      <td>False</td>\n",
       "      <td>1</td>\n",
       "      <td>0.0</td>\n",
       "      <td>1.0</td>\n",
       "      <td>0</td>\n",
       "      <td>0</td>\n",
       "      <td>0</td>\n",
       "      <td>0</td>\n",
       "      <td>0</td>\n",
       "    </tr>\n",
       "    <tr>\n",
       "      <th>4</th>\n",
       "      <td>8.841186e+12</td>\n",
       "      <td>5642494</td>\n",
       "      <td>F</td>\n",
       "      <td>2016-04-29T16:07:23Z</td>\n",
       "      <td>2016-04-29T00:00:00Z</td>\n",
       "      <td>56</td>\n",
       "      <td>JARDIM DA PENHA</td>\n",
       "      <td>0</td>\n",
       "      <td>1</td>\n",
       "      <td>1</td>\n",
       "      <td>...</td>\n",
       "      <td>&gt; 45 days</td>\n",
       "      <td>False</td>\n",
       "      <td>0</td>\n",
       "      <td>NaN</td>\n",
       "      <td>0.0</td>\n",
       "      <td>0</td>\n",
       "      <td>0</td>\n",
       "      <td>0</td>\n",
       "      <td>0</td>\n",
       "      <td>0</td>\n",
       "    </tr>\n",
       "  </tbody>\n",
       "</table>\n",
       "<p>5 rows × 39 columns</p>\n",
       "</div>"
      ],
      "text/plain": [
       "      PatientId  AppointmentID Gender          ScheduledDay  \\\n",
       "0  2.987250e+13        5642903      F  2016-04-29T18:38:08Z   \n",
       "1  5.589978e+14        5642503      M  2016-04-29T16:08:27Z   \n",
       "2  4.262962e+12        5642549      F  2016-04-29T16:19:04Z   \n",
       "3  8.679512e+11        5642828      F  2016-04-29T17:29:31Z   \n",
       "4  8.841186e+12        5642494      F  2016-04-29T16:07:23Z   \n",
       "\n",
       "         AppointmentDay  Age      Neighbourhood  Scholarship  Hipertension  \\\n",
       "0  2016-04-29T00:00:00Z   62    JARDIM DA PENHA            0             1   \n",
       "1  2016-04-29T00:00:00Z   56    JARDIM DA PENHA            0             0   \n",
       "2  2016-04-29T00:00:00Z   62      MATA DA PRAIA            0             0   \n",
       "3  2016-04-29T00:00:00Z    8  PONTAL DE CAMBURI            0             0   \n",
       "4  2016-04-29T00:00:00Z   56    JARDIM DA PENHA            0             1   \n",
       "\n",
       "   Diabetes       ...         DaysBeforeAppCat  NoShow  PreviousApp  \\\n",
       "0         0       ...                > 45 days   False            1   \n",
       "1         0       ...                > 45 days   False            1   \n",
       "2         0       ...                > 45 days   False            1   \n",
       "3         0       ...                > 45 days   False            1   \n",
       "4         1       ...                > 45 days   False            0   \n",
       "\n",
       "  PreviousNoShow MissedAppointments is_ITARARÉ is_JESUS DE NAZARETH  \\\n",
       "0            0.0                0.0          0                    0   \n",
       "1            0.0                0.0          0                    0   \n",
       "2            0.0                0.0          0                    0   \n",
       "3            0.0                1.0          0                    0   \n",
       "4            NaN                0.0          0                    0   \n",
       "\n",
       "   is_SANTA CECÍLIA  is_SANTA CLARA is_SANTOS DUMONT  \n",
       "0                 0               0                0  \n",
       "1                 0               0                0  \n",
       "2                 0               0                0  \n",
       "3                 0               0                0  \n",
       "4                 0               0                0  \n",
       "\n",
       "[5 rows x 39 columns]"
      ]
     },
     "execution_count": 4,
     "metadata": {},
     "output_type": "execute_result"
    }
   ],
   "source": [
    "appointments.head()"
   ]
  },
  {
   "cell_type": "code",
   "execution_count": 5,
   "metadata": {},
   "outputs": [
    {
     "name": "stdout",
     "output_type": "stream",
     "text": [
      "<class 'pandas.core.frame.DataFrame'>\n",
      "RangeIndex: 110527 entries, 0 to 110526\n",
      "Data columns (total 39 columns):\n",
      "PatientId                    110527 non-null float64\n",
      "AppointmentID                110527 non-null int64\n",
      "Gender                       110527 non-null object\n",
      "ScheduledDay                 110527 non-null object\n",
      "AppointmentDay               110527 non-null object\n",
      "Age                          110527 non-null int64\n",
      "Neighbourhood                110527 non-null object\n",
      "Scholarship                  110527 non-null int64\n",
      "Hipertension                 110527 non-null int64\n",
      "Diabetes                     110527 non-null int64\n",
      "Alcoholism                   110527 non-null int64\n",
      "Handcap                      110527 non-null int64\n",
      "SMS_received                 110527 non-null int64\n",
      "No-show                      110527 non-null object\n",
      "ScheduledDay_date            110527 non-null object\n",
      "AppointmentDay_date          110527 non-null object\n",
      "Scheduled_Day_of_week        110527 non-null object\n",
      "Scheduled_hour               110527 non-null int64\n",
      "Scheduled_minute             110527 non-null int64\n",
      "Scheduled_Month_of_year      110527 non-null object\n",
      "Scheduled_Day_of_month       110527 non-null int64\n",
      "Scheduled_year               110527 non-null int64\n",
      "Appointment_Day_of_week      110527 non-null object\n",
      "Appointment_Month_of_year    110527 non-null object\n",
      "Appointment_Day_of_month     110527 non-null int64\n",
      "Appointment_year             110527 non-null int64\n",
      "WeekdayScheduled             110527 non-null int64\n",
      "WeekdayAppointment           110527 non-null int64\n",
      "DaysBeforeApp                110527 non-null int64\n",
      "DaysBeforeAppCat             110527 non-null object\n",
      "NoShow                       110527 non-null bool\n",
      "PreviousApp                  110527 non-null int64\n",
      "PreviousNoShow               48228 non-null float64\n",
      "MissedAppointments           110527 non-null float64\n",
      "is_ITARARÉ                   110527 non-null int64\n",
      "is_JESUS DE NAZARETH         110527 non-null int64\n",
      "is_SANTA CECÍLIA             110527 non-null int64\n",
      "is_SANTA CLARA               110527 non-null int64\n",
      "is_SANTOS DUMONT             110527 non-null int64\n",
      "dtypes: bool(1), float64(3), int64(23), object(12)\n",
      "memory usage: 32.1+ MB\n"
     ]
    }
   ],
   "source": [
    "appointments.info()"
   ]
  },
  {
   "cell_type": "code",
   "execution_count": 6,
   "metadata": {},
   "outputs": [
    {
     "data": {
      "text/plain": [
       "Index(['PatientId', 'AppointmentID', 'Gender', 'ScheduledDay',\n",
       "       'AppointmentDay', 'Age', 'Neighbourhood', 'Scholarship', 'Hipertension',\n",
       "       'Diabetes', 'Alcoholism', 'Handcap', 'SMS_received', 'No-show',\n",
       "       'ScheduledDay_date', 'AppointmentDay_date', 'Scheduled_Day_of_week',\n",
       "       'Scheduled_hour', 'Scheduled_minute', 'Scheduled_Month_of_year',\n",
       "       'Scheduled_Day_of_month', 'Scheduled_year', 'Appointment_Day_of_week',\n",
       "       'Appointment_Month_of_year', 'Appointment_Day_of_month',\n",
       "       'Appointment_year', 'WeekdayScheduled', 'WeekdayAppointment',\n",
       "       'DaysBeforeApp', 'DaysBeforeAppCat', 'NoShow', 'PreviousApp',\n",
       "       'PreviousNoShow', 'MissedAppointments', 'is_ITARARÉ',\n",
       "       'is_JESUS DE NAZARETH', 'is_SANTA CECÍLIA', 'is_SANTA CLARA',\n",
       "       'is_SANTOS DUMONT'],\n",
       "      dtype='object')"
      ]
     },
     "execution_count": 6,
     "metadata": {},
     "output_type": "execute_result"
    }
   ],
   "source": [
    "appointments.columns"
   ]
  },
  {
   "cell_type": "code",
   "execution_count": 7,
   "metadata": {},
   "outputs": [],
   "source": [
    "appointments = appointments[appointments['Age'] >= 0]"
   ]
  },
  {
   "cell_type": "code",
   "execution_count": 8,
   "metadata": {},
   "outputs": [
    {
     "data": {
      "text/plain": [
       "(110526, 39)"
      ]
     },
     "execution_count": 8,
     "metadata": {},
     "output_type": "execute_result"
    }
   ],
   "source": [
    "appointments.shape"
   ]
  },
  {
   "cell_type": "code",
   "execution_count": 9,
   "metadata": {},
   "outputs": [],
   "source": [
    "train = appointments[['Gender', 'Age', 'Scholarship', 'Hipertension','Diabetes', 'Alcoholism', 'Handcap', \n",
    "                         'SMS_received', 'WeekdayScheduled', 'WeekdayAppointment', 'Appointment_Month_of_year',\n",
    "                         'DaysBeforeAppCat', 'MissedAppointments', 'is_ITARARÉ','is_JESUS DE NAZARETH', 'PreviousApp',\n",
    "                         'is_SANTA CECÍLIA', 'is_SANTA CLARA','is_SANTOS DUMONT']]"
   ]
  },
  {
   "cell_type": "code",
   "execution_count": 10,
   "metadata": {},
   "outputs": [],
   "source": [
    "x = pd.get_dummies(train)\n",
    "y = y = [0 if x == \"No\" else 1 for x in appointments['No-show']]"
   ]
  },
  {
   "cell_type": "code",
   "execution_count": 11,
   "metadata": {},
   "outputs": [
    {
     "data": {
      "text/plain": [
       "Index(['Age', 'Scholarship', 'Hipertension', 'Diabetes', 'Alcoholism',\n",
       "       'Handcap', 'SMS_received', 'WeekdayScheduled', 'WeekdayAppointment',\n",
       "       'MissedAppointments', 'is_ITARARÉ', 'is_JESUS DE NAZARETH',\n",
       "       'PreviousApp', 'is_SANTA CECÍLIA', 'is_SANTA CLARA', 'is_SANTOS DUMONT',\n",
       "       'Gender_F', 'Gender_M', 'Appointment_Month_of_year_April',\n",
       "       'Appointment_Month_of_year_June', 'Appointment_Month_of_year_May',\n",
       "       'DaysBeforeAppCat_0 days', 'DaysBeforeAppCat_1-2 days',\n",
       "       'DaysBeforeAppCat_20-30 days', 'DaysBeforeAppCat_3-7 days',\n",
       "       'DaysBeforeAppCat_30-45 days', 'DaysBeforeAppCat_8-20 days',\n",
       "       'DaysBeforeAppCat_> 45 days'],\n",
       "      dtype='object')"
      ]
     },
     "execution_count": 11,
     "metadata": {},
     "output_type": "execute_result"
    }
   ],
   "source": [
    "x.columns"
   ]
  },
  {
   "cell_type": "code",
   "execution_count": 12,
   "metadata": {},
   "outputs": [
    {
     "data": {
      "text/plain": [
       "Counter({0: 88207, 1: 22319})"
      ]
     },
     "execution_count": 12,
     "metadata": {},
     "output_type": "execute_result"
    }
   ],
   "source": [
    "Counter(y)"
   ]
  },
  {
   "cell_type": "code",
   "execution_count": 13,
   "metadata": {},
   "outputs": [],
   "source": [
    "x_train_val, x_test, y_train_val, y_test = train_test_split(x, y, test_size=0.2, stratify=y)"
   ]
  },
  {
   "cell_type": "code",
   "execution_count": 14,
   "metadata": {},
   "outputs": [
    {
     "name": "stdout",
     "output_type": "stream",
     "text": [
      "(88420, 28)\n",
      "(22106, 28)\n"
     ]
    }
   ],
   "source": [
    "print(x_train_val.shape)\n",
    "print(x_test.shape)"
   ]
  },
  {
   "cell_type": "code",
   "execution_count": 15,
   "metadata": {},
   "outputs": [
    {
     "name": "stdout",
     "output_type": "stream",
     "text": [
      "Counter({0: 70565, 1: 17855})\n",
      "Counter({0: 17642, 1: 4464})\n"
     ]
    }
   ],
   "source": [
    "print(Counter(y_train_val))\n",
    "print(Counter(y_test))"
   ]
  },
  {
   "cell_type": "code",
   "execution_count": 16,
   "metadata": {},
   "outputs": [
    {
     "name": "stdout",
     "output_type": "stream",
     "text": [
      "Fitting 3 folds for each of 8 candidates, totalling 24 fits\n"
     ]
    },
    {
     "name": "stderr",
     "output_type": "stream",
     "text": [
      "[Parallel(n_jobs=-1)]: Done  24 out of  24 | elapsed:  1.5min finished\n"
     ]
    },
    {
     "name": "stdout",
     "output_type": "stream",
     "text": [
      "Best score: 0.925752092286813\n",
      "Best parameters: {'C': 10, 'penalty': 'l2'}\n"
     ]
    }
   ],
   "source": [
    "params = {'penalty':['l1', 'l2'], 'C':[2, 3, 5, 10]}\n",
    "\n",
    "lr = LogisticRegression(class_weight='balanced')\n",
    "clf = GridSearchCV(lr, param_grid = params, verbose=1, n_jobs = -1, cv=3)\n",
    "clf.fit(x_train_val, y_train_val)\n",
    "print('Best score: {}'.format(clf.best_score_))\n",
    "print('Best parameters: {}'.format(clf.best_params_))"
   ]
  },
  {
   "cell_type": "code",
   "execution_count": 17,
   "metadata": {},
   "outputs": [],
   "source": [
    "log_best = clf.best_estimator_"
   ]
  },
  {
   "cell_type": "code",
   "execution_count": 18,
   "metadata": {},
   "outputs": [],
   "source": [
    "y_pred = log_best.predict(x_test)"
   ]
  },
  {
   "cell_type": "code",
   "execution_count": 19,
   "metadata": {},
   "outputs": [
    {
     "name": "stdout",
     "output_type": "stream",
     "text": [
      "             precision    recall  f1-score   support\n",
      "\n",
      "          0       0.99      0.92      0.95     17642\n",
      "          1       0.75      0.97      0.84      4464\n",
      "\n",
      "avg / total       0.94      0.93      0.93     22106\n",
      "\n"
     ]
    }
   ],
   "source": [
    "print(classification_report(y_test, y_pred))"
   ]
  },
  {
   "cell_type": "code",
   "execution_count": 20,
   "metadata": {},
   "outputs": [],
   "source": [
    "y_pred = log_best.predict_proba(x_test)[:, 1]"
   ]
  },
  {
   "cell_type": "code",
   "execution_count": 21,
   "metadata": {},
   "outputs": [
    {
     "name": "stdout",
     "output_type": "stream",
     "text": [
      "0.4\n",
      "             precision    recall  f1-score   support\n",
      "\n",
      "          0       0.99      0.91      0.95     17642\n",
      "          1       0.72      0.98      0.83      4464\n",
      "\n",
      "avg / total       0.94      0.92      0.92     22106\n",
      "\n",
      "0.45\n",
      "             precision    recall  f1-score   support\n",
      "\n",
      "          0       0.99      0.91      0.95     17642\n",
      "          1       0.73      0.97      0.83      4464\n",
      "\n",
      "avg / total       0.94      0.92      0.93     22106\n",
      "\n",
      "0.5\n",
      "             precision    recall  f1-score   support\n",
      "\n",
      "          0       0.99      0.92      0.95     17642\n",
      "          1       0.75      0.97      0.84      4464\n",
      "\n",
      "avg / total       0.94      0.93      0.93     22106\n",
      "\n",
      "0.55\n",
      "             precision    recall  f1-score   support\n",
      "\n",
      "          0       0.99      0.93      0.96     17642\n",
      "          1       0.78      0.95      0.86      4464\n",
      "\n",
      "avg / total       0.94      0.94      0.94     22106\n",
      "\n",
      "0.6\n",
      "             precision    recall  f1-score   support\n",
      "\n",
      "          0       0.99      0.93      0.96     17642\n",
      "          1       0.78      0.95      0.86      4464\n",
      "\n",
      "avg / total       0.94      0.94      0.94     22106\n",
      "\n",
      "0.65\n",
      "             precision    recall  f1-score   support\n",
      "\n",
      "          0       0.98      0.94      0.96     17642\n",
      "          1       0.79      0.94      0.86      4464\n",
      "\n",
      "avg / total       0.94      0.94      0.94     22106\n",
      "\n",
      "0.7\n",
      "             precision    recall  f1-score   support\n",
      "\n",
      "          0       0.98      0.94      0.96     17642\n",
      "          1       0.80      0.92      0.85      4464\n",
      "\n",
      "avg / total       0.94      0.94      0.94     22106\n",
      "\n"
     ]
    }
   ],
   "source": [
    "\n",
    "def with_threshold(y_pred, threshold):\n",
    "    return [1 if y >= threshold else 0 for y in y_pred]\n",
    "\n",
    "threshold = [0.4, 0.45, 0.5, 0.55, 0.6, 0.65, 0.7]\n",
    "for t in threshold:\n",
    "    y_final=with_threshold(y_pred, t)\n",
    "    print(t)\n",
    "    print(classification_report(y_test, y_final))"
   ]
  },
  {
   "cell_type": "code",
   "execution_count": null,
   "metadata": {},
   "outputs": [
    {
     "name": "stdout",
     "output_type": "stream",
     "text": [
      "Fitting 2 folds for each of 2 candidates, totalling 4 fits\n"
     ]
    }
   ],
   "source": [
    "# params = {'C': [1, 3], 'kernel': ['rbf']}\n",
    "\n",
    "# svc = SVC(probability=True)\n",
    "# clf = GridSearchCV(svc, param_grid=params, verbose=1, n_jobs=-1, cv=2)\n",
    "# clf.fit(x_train_val, y_train_val)\n",
    "\n",
    "# print('Best score: {}'.format(clf.best_score_))\n",
    "# print('Best parameters: {}'.format(clf.best_params_))"
   ]
  },
  {
   "cell_type": "code",
   "execution_count": 109,
   "metadata": {},
   "outputs": [],
   "source": [
    "# svc_best = clf.best_estimator_"
   ]
  },
  {
   "cell_type": "code",
   "execution_count": 110,
   "metadata": {},
   "outputs": [],
   "source": [
    "# y_pred = svc_best.predict(x_test)"
   ]
  },
  {
   "cell_type": "code",
   "execution_count": 111,
   "metadata": {},
   "outputs": [
    {
     "name": "stdout",
     "output_type": "stream",
     "text": [
      "             precision    recall  f1-score   support\n",
      "\n",
      "          0       0.99      0.91      0.95     17642\n",
      "          1       0.73      0.96      0.83      4464\n",
      "\n",
      "avg / total       0.94      0.92      0.93     22106\n",
      "\n"
     ]
    }
   ],
   "source": [
    "# print(classification_report(y_test, y_pred))"
   ]
  },
  {
   "cell_type": "code",
   "execution_count": 112,
   "metadata": {},
   "outputs": [],
   "source": [
    "# y_pred = svc_best.predict_proba(x_test)[:, 1]"
   ]
  },
  {
   "cell_type": "code",
   "execution_count": 113,
   "metadata": {},
   "outputs": [
    {
     "name": "stdout",
     "output_type": "stream",
     "text": [
      "0.4\n",
      "             precision    recall  f1-score   support\n",
      "\n",
      "          0       0.99      0.90      0.94     17642\n",
      "          1       0.71      0.97      0.82      4464\n",
      "\n",
      "avg / total       0.94      0.92      0.92     22106\n",
      "\n",
      "0.45\n",
      "             precision    recall  f1-score   support\n",
      "\n",
      "          0       0.99      0.90      0.95     17642\n",
      "          1       0.72      0.97      0.82      4464\n",
      "\n",
      "avg / total       0.94      0.92      0.92     22106\n",
      "\n",
      "0.5\n",
      "             precision    recall  f1-score   support\n",
      "\n",
      "          0       0.99      0.91      0.95     17642\n",
      "          1       0.73      0.96      0.83      4464\n",
      "\n",
      "avg / total       0.94      0.92      0.93     22106\n",
      "\n",
      "0.55\n",
      "             precision    recall  f1-score   support\n",
      "\n",
      "          0       0.99      0.93      0.96     17642\n",
      "          1       0.77      0.95      0.85      4464\n",
      "\n",
      "avg / total       0.94      0.93      0.94     22106\n",
      "\n",
      "0.6\n",
      "             precision    recall  f1-score   support\n",
      "\n",
      "          0       0.99      0.93      0.96     17642\n",
      "          1       0.78      0.95      0.85      4464\n",
      "\n",
      "avg / total       0.94      0.93      0.94     22106\n",
      "\n",
      "0.65\n",
      "             precision    recall  f1-score   support\n",
      "\n",
      "          0       0.98      0.93      0.96     17642\n",
      "          1       0.78      0.94      0.85      4464\n",
      "\n",
      "avg / total       0.94      0.94      0.94     22106\n",
      "\n",
      "0.7\n",
      "             precision    recall  f1-score   support\n",
      "\n",
      "          0       0.98      0.94      0.96     17642\n",
      "          1       0.80      0.92      0.85      4464\n",
      "\n",
      "avg / total       0.94      0.94      0.94     22106\n",
      "\n"
     ]
    }
   ],
   "source": [
    "\n",
    "# def with_threshold(y_pred, threshold):\n",
    "#     return [1 if y >= threshold else 0 for y in y_pred]\n",
    "\n",
    "# threshold = [0.4, 0.45, 0.5, 0.55, 0.6, 0.65, 0.7]\n",
    "# for t in threshold:\n",
    "#     y_final=with_threshold(y_pred, t)\n",
    "#     print(t)\n",
    "#     print(classification_report(y_test, y_final))"
   ]
  },
  {
   "cell_type": "code",
   "execution_count": 30,
   "metadata": {},
   "outputs": [
    {
     "name": "stdout",
     "output_type": "stream",
     "text": [
      "Fitting 2 folds for each of 24 candidates, totalling 48 fits\n"
     ]
    },
    {
     "name": "stderr",
     "output_type": "stream",
     "text": [
      "[Parallel(n_jobs=-1)]: Done  48 out of  48 | elapsed:  3.3min finished\n"
     ]
    },
    {
     "name": "stdout",
     "output_type": "stream",
     "text": [
      "Best score: 0.9448427957475685\n",
      "Best parameters: {'criterion': 'entropy', 'max_depth': 20, 'max_features': 10, 'n_estimators': 500}\n"
     ]
    }
   ],
   "source": [
    "params = {'n_estimators': [300, 500], 'criterion': ['entropy'], 'max_depth': [5, 10, 20],\n",
    "          'max_features': [4, 6, 8, 10]}\n",
    "\n",
    "rf = RandomForestClassifier(class_weight=\"balanced\")\n",
    "clf = GridSearchCV(rf, param_grid=params, n_jobs=-1, verbose=1, cv=2)\n",
    "clf.fit(x_train_val, y_train_val)\n",
    "print('Best score: {}'.format(clf.best_score_))\n",
    "print('Best parameters: {}'.format(clf.best_params_))"
   ]
  },
  {
   "cell_type": "code",
   "execution_count": 31,
   "metadata": {},
   "outputs": [],
   "source": [
    "rf_best = clf.best_estimator_"
   ]
  },
  {
   "cell_type": "code",
   "execution_count": 32,
   "metadata": {},
   "outputs": [],
   "source": [
    "y_pred = rf_best.predict_proba(x_test)[:, 1]"
   ]
  },
  {
   "cell_type": "code",
   "execution_count": 33,
   "metadata": {},
   "outputs": [
    {
     "name": "stdout",
     "output_type": "stream",
     "text": [
      "0.4\n",
      "             precision    recall  f1-score   support\n",
      "\n",
      "          0       0.99      0.94      0.96     17642\n",
      "          1       0.80      0.94      0.86      4464\n",
      "\n",
      "avg / total       0.95      0.94      0.94     22106\n",
      "\n",
      "0.45\n",
      "             precision    recall  f1-score   support\n",
      "\n",
      "          0       0.98      0.94      0.96     17642\n",
      "          1       0.81      0.93      0.87      4464\n",
      "\n",
      "avg / total       0.95      0.94      0.94     22106\n",
      "\n",
      "0.5\n",
      "             precision    recall  f1-score   support\n",
      "\n",
      "          0       0.98      0.95      0.96     17642\n",
      "          1       0.83      0.91      0.87      4464\n",
      "\n",
      "avg / total       0.95      0.94      0.94     22106\n",
      "\n",
      "0.55\n",
      "             precision    recall  f1-score   support\n",
      "\n",
      "          0       0.97      0.96      0.96     17642\n",
      "          1       0.84      0.89      0.87      4464\n",
      "\n",
      "avg / total       0.95      0.94      0.94     22106\n",
      "\n",
      "0.6\n",
      "             precision    recall  f1-score   support\n",
      "\n",
      "          0       0.97      0.96      0.97     17642\n",
      "          1       0.86      0.87      0.86      4464\n",
      "\n",
      "avg / total       0.95      0.94      0.95     22106\n",
      "\n",
      "0.65\n",
      "             precision    recall  f1-score   support\n",
      "\n",
      "          0       0.96      0.97      0.97     17642\n",
      "          1       0.88      0.84      0.86      4464\n",
      "\n",
      "avg / total       0.95      0.95      0.95     22106\n",
      "\n",
      "0.7\n",
      "             precision    recall  f1-score   support\n",
      "\n",
      "          0       0.95      0.98      0.97     17642\n",
      "          1       0.90      0.81      0.85      4464\n",
      "\n",
      "avg / total       0.94      0.94      0.94     22106\n",
      "\n"
     ]
    }
   ],
   "source": [
    "\n",
    "def with_threshold(y_pred, threshold):\n",
    "    return [1 if y >= threshold else 0 for y in y_pred]\n",
    "\n",
    "threshold = [0.4, 0.45, 0.5, 0.55, 0.6, 0.65, 0.7]\n",
    "for t in threshold:\n",
    "    y_final=with_threshold(y_pred, t)\n",
    "    print(t)\n",
    "    print(classification_report(y_test, y_final))"
   ]
  },
  {
   "cell_type": "code",
   "execution_count": 34,
   "metadata": {},
   "outputs": [],
   "source": [
    "y0 = len([x for x in y_train_val if x == 0])\n",
    "\n",
    "y1 = len([x for x in y_train_val if x == 1])\n",
    "\n",
    "\n",
    "w0=(y1/y0)*2\n",
    "w1=1\n",
    "\n",
    "sample_weights = [w0 if x == 0 else w1 for x in y_train_val]"
   ]
  },
  {
   "cell_type": "code",
   "execution_count": 40,
   "metadata": {},
   "outputs": [
    {
     "name": "stdout",
     "output_type": "stream",
     "text": [
      "Fitting 2 folds for each of 48 candidates, totalling 96 fits\n"
     ]
    },
    {
     "name": "stderr",
     "output_type": "stream",
     "text": [
      "[Parallel(n_jobs=-1)]: Done  34 tasks      | elapsed:  2.9min\n",
      "[Parallel(n_jobs=-1)]: Done  96 out of  96 | elapsed:  8.4min finished\n"
     ]
    },
    {
     "name": "stdout",
     "output_type": "stream",
     "text": [
      "      Iter       Train Loss   Remaining Time \n",
      "         1           0.9502           10.74s\n",
      "         2           0.8902           10.40s\n",
      "         3           0.8804           10.28s\n",
      "         4           0.8766            9.83s\n",
      "         5           0.8278            9.96s\n",
      "         6           0.7967            9.84s\n",
      "         7           0.7568            9.91s\n",
      "         8           0.7198           10.03s\n",
      "         9           0.7134           10.06s\n",
      "        10           0.7018            9.92s\n",
      "        20           0.5344           10.02s\n",
      "        30           0.4401            9.72s\n",
      "        40           0.3867            9.38s\n",
      "        50           0.3501            8.99s\n",
      "        60           0.3235            8.56s\n",
      "        70           0.2985            8.31s\n",
      "        80           0.2862            7.92s\n",
      "        90           0.2764            7.59s\n",
      "       100           0.2644            7.24s\n",
      "       200           0.2159            3.50s\n",
      "       300           0.2029            0.00s\n",
      "Best score: 0.9475571137751639\n",
      "Best parameters: {'learning_rate': 0.05, 'loss': 'deviance', 'max_features': 8, 'n_estimators': 300}\n"
     ]
    }
   ],
   "source": [
    "params = {'n_estimators': [300,400], 'learning_rate': [0.05, 0.1, 0.5], 'loss': [\"deviance\", \"exponential\"], \n",
    "          'max_features':[4, 6, 8, 10]}\n",
    "\n",
    "gbm = GradientBoostingClassifier(verbose=1)\n",
    "clf = GridSearchCV(gbm, param_grid=params, n_jobs=-1, verbose=1, cv=2)\n",
    "clf.fit(x_train_val, y_train_val, sample_weights)\n",
    "print('Best score: {}'.format(clf.best_score_))\n",
    "print('Best parameters: {}'.format(clf.best_params_))"
   ]
  },
  {
   "cell_type": "code",
   "execution_count": 41,
   "metadata": {
    "colab": {
     "base_uri": "https://localhost:8080/",
     "height": 34
    },
    "colab_type": "code",
    "id": "XD5FLnXXX9s4",
    "outputId": "6b0cf38f-3097-415e-9de8-691b35fcf1d4"
   },
   "outputs": [],
   "source": [
    "gbm_best = clf.best_estimator_"
   ]
  },
  {
   "cell_type": "code",
   "execution_count": 42,
   "metadata": {
    "colab": {
     "base_uri": "https://localhost:8080/",
     "height": 173
    },
    "colab_type": "code",
    "id": "m0-hJ_BUX9s8",
    "outputId": "5eee8665-ff62-4da1-8fa3-890310ed721f"
   },
   "outputs": [
    {
     "name": "stdout",
     "output_type": "stream",
     "text": [
      "             precision    recall  f1-score   support\n",
      "\n",
      "          0       0.97      0.97      0.97     17642\n",
      "          1       0.86      0.88      0.87      4464\n",
      "\n",
      "avg / total       0.95      0.95      0.95     22106\n",
      "\n"
     ]
    }
   ],
   "source": [
    "y_pred = gbm_best.predict(x_test)\n",
    "print(classification_report(y_test, y_pred))"
   ]
  },
  {
   "cell_type": "code",
   "execution_count": 43,
   "metadata": {
    "colab": {},
    "colab_type": "code",
    "id": "4IYzGPyLX9s_"
   },
   "outputs": [],
   "source": [
    "y_pred = gbm_best.predict_proba(x_test)[:, 1]"
   ]
  },
  {
   "cell_type": "code",
   "execution_count": 44,
   "metadata": {
    "colab": {
     "base_uri": "https://localhost:8080/",
     "height": 1000
    },
    "colab_type": "code",
    "id": "UHgVClylCLnz",
    "outputId": "67473f0b-cfb0-4b8e-b24c-9a1cd85f0800"
   },
   "outputs": [
    {
     "name": "stdout",
     "output_type": "stream",
     "text": [
      "0.35\n",
      "             precision    recall  f1-score   support\n",
      "\n",
      "          0       0.98      0.94      0.96     17642\n",
      "          1       0.81      0.94      0.87      4464\n",
      "\n",
      "avg / total       0.95      0.94      0.94     22106\n",
      "\n",
      "0.4\n",
      "             precision    recall  f1-score   support\n",
      "\n",
      "          0       0.98      0.95      0.97     17642\n",
      "          1       0.82      0.92      0.87      4464\n",
      "\n",
      "avg / total       0.95      0.95      0.95     22106\n",
      "\n",
      "0.45\n",
      "             precision    recall  f1-score   support\n",
      "\n",
      "          0       0.98      0.96      0.97     17642\n",
      "          1       0.84      0.91      0.87      4464\n",
      "\n",
      "avg / total       0.95      0.95      0.95     22106\n",
      "\n",
      "0.5\n",
      "             precision    recall  f1-score   support\n",
      "\n",
      "          0       0.97      0.97      0.97     17642\n",
      "          1       0.86      0.88      0.87      4464\n",
      "\n",
      "avg / total       0.95      0.95      0.95     22106\n",
      "\n",
      "0.55\n",
      "             precision    recall  f1-score   support\n",
      "\n",
      "          0       0.96      0.98      0.97     17642\n",
      "          1       0.90      0.83      0.86      4464\n",
      "\n",
      "avg / total       0.95      0.95      0.95     22106\n",
      "\n",
      "0.6\n",
      "             precision    recall  f1-score   support\n",
      "\n",
      "          0       0.95      0.99      0.97     17642\n",
      "          1       0.94      0.78      0.85      4464\n",
      "\n",
      "avg / total       0.95      0.95      0.94     22106\n",
      "\n",
      "0.65\n",
      "             precision    recall  f1-score   support\n",
      "\n",
      "          0       0.94      0.99      0.96     17642\n",
      "          1       0.96      0.74      0.84      4464\n",
      "\n",
      "avg / total       0.94      0.94      0.94     22106\n",
      "\n",
      "0.7\n",
      "             precision    recall  f1-score   support\n",
      "\n",
      "          0       0.93      1.00      0.96     17642\n",
      "          1       0.98      0.71      0.82      4464\n",
      "\n",
      "avg / total       0.94      0.94      0.93     22106\n",
      "\n"
     ]
    }
   ],
   "source": [
    "def with_threshold(y_pred, threshold):\n",
    "    return [1 if y >= threshold else 0 for y in y_pred]\n",
    "\n",
    "threshold = [0.35, 0.4, 0.45, 0.5, 0.55, 0.6, 0.65, 0.7]\n",
    "for t in threshold:\n",
    "    y_final=with_threshold(y_pred, t)\n",
    "    print(t)\n",
    "    print(classification_report(y_test, y_final))"
   ]
  },
  {
   "cell_type": "code",
   "execution_count": 45,
   "metadata": {
    "colab": {
     "base_uri": "https://localhost:8080/",
     "height": 159
    },
    "colab_type": "code",
    "id": "nXaiOP7cCgDy",
    "outputId": "17044983-b7ce-4489-80a8-9b8341965faa"
   },
   "outputs": [
    {
     "name": "stdout",
     "output_type": "stream",
     "text": [
      "Fitting 2 folds for each of 27 candidates, totalling 54 fits\n"
     ]
    },
    {
     "name": "stderr",
     "output_type": "stream",
     "text": [
      "[Parallel(n_jobs=-1)]: Done  34 tasks      | elapsed:  7.3min\n",
      "[Parallel(n_jobs=-1)]: Done  54 out of  54 | elapsed: 14.0min finished\n"
     ]
    },
    {
     "name": "stdout",
     "output_type": "stream",
     "text": [
      "Best score: 0.9473987785568876\n",
      "Best parameters: {'learning_rate': 0.05, 'max_depth': 5, 'n_estimators': 200}\n"
     ]
    }
   ],
   "source": [
    "params = {'n_estimators': [200, 400, 500], 'learning_rate': [0.05, 0.1, 0.5], 'max_depth': [5, 10, 20]}\n",
    "\n",
    "from xgboost.sklearn import XGBClassifier\n",
    "xgb = XGBClassifier(verbosity=1)\n",
    "clf = GridSearchCV(xgb, param_grid=params, n_jobs=-1, verbose=1, cv=2)\n",
    "clf.fit(x_train_val, y_train_val, sample_weights)\n",
    "\n",
    "print('Best score: {}'.format(clf.best_score_))\n",
    "print('Best parameters: {}'.format(clf.best_params_))"
   ]
  },
  {
   "cell_type": "code",
   "execution_count": 46,
   "metadata": {},
   "outputs": [],
   "source": [
    "xgb_best = clf.best_estimator_"
   ]
  },
  {
   "cell_type": "code",
   "execution_count": 47,
   "metadata": {
    "colab": {
     "base_uri": "https://localhost:8080/",
     "height": 173
    },
    "colab_type": "code",
    "id": "y3svSRrbGOCD",
    "outputId": "f11a98ab-8864-4ce8-ae61-a49fd1a003aa"
   },
   "outputs": [
    {
     "name": "stdout",
     "output_type": "stream",
     "text": [
      "             precision    recall  f1-score   support\n",
      "\n",
      "          0       0.97      0.97      0.97     17642\n",
      "          1       0.87      0.87      0.87      4464\n",
      "\n",
      "avg / total       0.95      0.95      0.95     22106\n",
      "\n"
     ]
    },
    {
     "name": "stderr",
     "output_type": "stream",
     "text": [
      "c:\\users\\shanu\\anaconda3\\envs\\dl-udacity-pytorch\\lib\\site-packages\\sklearn\\preprocessing\\label.py:151: DeprecationWarning: The truth value of an empty array is ambiguous. Returning False, but in future this will result in an error. Use `array.size > 0` to check that an array is not empty.\n",
      "  if diff:\n"
     ]
    }
   ],
   "source": [
    "y_pred = xgb_best.predict(x_test)\n",
    "print(classification_report(y_test, y_pred))"
   ]
  },
  {
   "cell_type": "code",
   "execution_count": 48,
   "metadata": {
    "colab": {},
    "colab_type": "code",
    "id": "NjeYgUKEGODD"
   },
   "outputs": [],
   "source": [
    "y_pred = xgb_best.predict_proba(x_test)[:, 1]"
   ]
  },
  {
   "cell_type": "code",
   "execution_count": 49,
   "metadata": {
    "colab": {
     "base_uri": "https://localhost:8080/",
     "height": 1000
    },
    "colab_type": "code",
    "id": "XwyIFd3tGODO",
    "outputId": "b67f6def-8528-4184-a5c2-d43fe66ebb38"
   },
   "outputs": [
    {
     "name": "stdout",
     "output_type": "stream",
     "text": [
      "0.4\n",
      "             precision    recall  f1-score   support\n",
      "\n",
      "          0       0.98      0.95      0.96     17642\n",
      "          1       0.82      0.92      0.87      4464\n",
      "\n",
      "avg / total       0.95      0.94      0.95     22106\n",
      "\n",
      "0.45\n",
      "             precision    recall  f1-score   support\n",
      "\n",
      "          0       0.97      0.96      0.97     17642\n",
      "          1       0.84      0.90      0.87      4464\n",
      "\n",
      "avg / total       0.95      0.95      0.95     22106\n",
      "\n",
      "0.5\n",
      "             precision    recall  f1-score   support\n",
      "\n",
      "          0       0.97      0.97      0.97     17642\n",
      "          1       0.87      0.87      0.87      4464\n",
      "\n",
      "avg / total       0.95      0.95      0.95     22106\n",
      "\n",
      "0.55\n",
      "             precision    recall  f1-score   support\n",
      "\n",
      "          0       0.96      0.98      0.97     17642\n",
      "          1       0.91      0.82      0.86      4464\n",
      "\n",
      "avg / total       0.95      0.95      0.95     22106\n",
      "\n",
      "0.6\n",
      "             precision    recall  f1-score   support\n",
      "\n",
      "          0       0.94      0.99      0.97     17642\n",
      "          1       0.95      0.76      0.85      4464\n",
      "\n",
      "avg / total       0.94      0.94      0.94     22106\n",
      "\n",
      "0.65\n",
      "             precision    recall  f1-score   support\n",
      "\n",
      "          0       0.94      0.99      0.96     17642\n",
      "          1       0.97      0.73      0.83      4464\n",
      "\n",
      "avg / total       0.94      0.94      0.94     22106\n",
      "\n",
      "0.7\n",
      "             precision    recall  f1-score   support\n",
      "\n",
      "          0       0.93      1.00      0.96     17642\n",
      "          1       0.99      0.71      0.82      4464\n",
      "\n",
      "avg / total       0.94      0.94      0.94     22106\n",
      "\n"
     ]
    }
   ],
   "source": [
    "def with_threshold(y_pred, threshold):\n",
    "    return [1 if y >= threshold else 0 for y in y_pred]\n",
    "\n",
    "threshold = [0.4, 0.45, 0.5, 0.55, 0.6, 0.65, 0.7]\n",
    "for t in threshold:\n",
    "    y_final=with_threshold(y_pred, t)\n",
    "    print(t)\n",
    "    print(classification_report(y_test, y_final))"
   ]
  },
  {
   "cell_type": "code",
   "execution_count": 50,
   "metadata": {},
   "outputs": [
    {
     "name": "stdout",
     "output_type": "stream",
     "text": [
      "Fitting 2 folds for each of 32 candidates, totalling 64 fits\n"
     ]
    },
    {
     "name": "stderr",
     "output_type": "stream",
     "text": [
      "[Parallel(n_jobs=-1)]: Done  34 tasks      | elapsed:  3.9min\n",
      "[Parallel(n_jobs=-1)]: Done  64 out of  64 | elapsed:  7.6min finished\n"
     ]
    },
    {
     "name": "stdout",
     "output_type": "stream",
     "text": [
      "Best Score 0.8858063786473649\n",
      "Best Params {'n_neighbors': 10, 'p': 1, 'weights': 'distance'}\n"
     ]
    }
   ],
   "source": [
    "params = {'n_neighbors' : [3, 5, 10, 15], 'p' : [1, 2, 5, 10], 'weights':['uniform', 'distance']}\n",
    "\n",
    "knn = KNeighborsClassifier()\n",
    "clf = GridSearchCV(knn, param_grid=params, verbose=1, n_jobs=-1, cv=2)\n",
    "clf.fit(x_train_val, y_train_val)\n",
    "print('Best Score {}'.format(clf.best_score_))\n",
    "print('Best Params {}'.format(clf.best_params_))"
   ]
  },
  {
   "cell_type": "code",
   "execution_count": 51,
   "metadata": {},
   "outputs": [],
   "source": [
    "knn_best = clf.best_estimator_"
   ]
  },
  {
   "cell_type": "code",
   "execution_count": 52,
   "metadata": {
    "colab": {
     "base_uri": "https://localhost:8080/",
     "height": 173
    },
    "colab_type": "code",
    "id": "y3svSRrbGOCD",
    "outputId": "f11a98ab-8864-4ce8-ae61-a49fd1a003aa"
   },
   "outputs": [
    {
     "name": "stdout",
     "output_type": "stream",
     "text": [
      "             precision    recall  f1-score   support\n",
      "\n",
      "          0       0.90      0.98      0.94     17642\n",
      "          1       0.88      0.58      0.70      4464\n",
      "\n",
      "avg / total       0.90      0.90      0.89     22106\n",
      "\n"
     ]
    }
   ],
   "source": [
    "y_pred = knn_best.predict(x_test)\n",
    "print(classification_report(y_test, y_pred))"
   ]
  },
  {
   "cell_type": "code",
   "execution_count": 53,
   "metadata": {
    "colab": {},
    "colab_type": "code",
    "id": "NjeYgUKEGODD"
   },
   "outputs": [],
   "source": [
    "y_pred = knn_best.predict_proba(x_test)[:, 1]"
   ]
  },
  {
   "cell_type": "code",
   "execution_count": 57,
   "metadata": {
    "colab": {
     "base_uri": "https://localhost:8080/",
     "height": 1000
    },
    "colab_type": "code",
    "id": "XwyIFd3tGODO",
    "outputId": "b67f6def-8528-4184-a5c2-d43fe66ebb38"
   },
   "outputs": [
    {
     "name": "stdout",
     "output_type": "stream",
     "text": [
      "0.25\n",
      "             precision    recall  f1-score   support\n",
      "\n",
      "          0       0.96      0.92      0.94     17642\n",
      "          1       0.74      0.86      0.80      4464\n",
      "\n",
      "avg / total       0.92      0.91      0.91     22106\n",
      "\n",
      "0.3\n",
      "             precision    recall  f1-score   support\n",
      "\n",
      "          0       0.95      0.94      0.95     17642\n",
      "          1       0.79      0.82      0.80      4464\n",
      "\n",
      "avg / total       0.92      0.92      0.92     22106\n",
      "\n",
      "0.35\n",
      "             precision    recall  f1-score   support\n",
      "\n",
      "          0       0.94      0.96      0.95     17642\n",
      "          1       0.82      0.77      0.80      4464\n",
      "\n",
      "avg / total       0.92      0.92      0.92     22106\n",
      "\n",
      "0.4\n",
      "             precision    recall  f1-score   support\n",
      "\n",
      "          0       0.93      0.97      0.95     17642\n",
      "          1       0.85      0.72      0.78      4464\n",
      "\n",
      "avg / total       0.92      0.92      0.92     22106\n",
      "\n",
      "0.45\n",
      "             precision    recall  f1-score   support\n",
      "\n",
      "          0       0.92      0.97      0.95     17642\n",
      "          1       0.86      0.66      0.75      4464\n",
      "\n",
      "avg / total       0.91      0.91      0.90     22106\n",
      "\n",
      "0.5\n",
      "             precision    recall  f1-score   support\n",
      "\n",
      "          0       0.91      0.98      0.94     17642\n",
      "          1       0.88      0.61      0.72      4464\n",
      "\n",
      "avg / total       0.90      0.90      0.90     22106\n",
      "\n",
      "0.55\n",
      "             precision    recall  f1-score   support\n",
      "\n",
      "          0       0.89      0.99      0.93     17642\n",
      "          1       0.90      0.51      0.65      4464\n",
      "\n",
      "avg / total       0.89      0.89      0.88     22106\n",
      "\n",
      "0.6\n",
      "             precision    recall  f1-score   support\n",
      "\n",
      "          0       0.88      0.99      0.93     17642\n",
      "          1       0.91      0.45      0.61      4464\n",
      "\n",
      "avg / total       0.88      0.88      0.86     22106\n",
      "\n",
      "0.65\n",
      "             precision    recall  f1-score   support\n",
      "\n",
      "          0       0.86      0.99      0.92     17642\n",
      "          1       0.92      0.37      0.53      4464\n",
      "\n",
      "avg / total       0.87      0.87      0.84     22106\n",
      "\n",
      "0.7\n",
      "             precision    recall  f1-score   support\n",
      "\n",
      "          0       0.85      0.99      0.92     17642\n",
      "          1       0.92      0.31      0.47      4464\n",
      "\n",
      "avg / total       0.87      0.86      0.83     22106\n",
      "\n"
     ]
    }
   ],
   "source": [
    "def with_threshold(y_pred, threshold):\n",
    "    return [1 if y >= threshold else 0 for y in y_pred]\n",
    "\n",
    "threshold = [0.25, 0.3, 0.35, 0.4, 0.45, 0.5, 0.55, 0.6, 0.65, 0.7]\n",
    "for t in threshold:\n",
    "    y_final=with_threshold(y_pred, t)\n",
    "    print(t)\n",
    "    print(classification_report(y_test, y_final))"
   ]
  },
  {
   "cell_type": "code",
   "execution_count": 62,
   "metadata": {},
   "outputs": [
    {
     "name": "stdout",
     "output_type": "stream",
     "text": [
      "Fitting 2 folds for each of 96 candidates, totalling 192 fits\n"
     ]
    },
    {
     "name": "stderr",
     "output_type": "stream",
     "text": [
      "[Parallel(n_jobs=-1)]: Done  34 tasks      | elapsed: 206.2min\n",
      "[Parallel(n_jobs=-1)]: Done 192 out of 192 | elapsed: 589.3min finished\n"
     ]
    },
    {
     "name": "stdout",
     "output_type": "stream",
     "text": [
      "Best score: 0.9467541280253337\n",
      "Best parameters: {'activation': 'logistic', 'alpha': 0.0001, 'hidden_layer_sizes': 15, 'learning_rate': 'adaptive', 'solver': 'lbfgs'}\n"
     ]
    }
   ],
   "source": [
    "\n",
    "params = {'activation':['logistic','relu'], 'hidden_layer_sizes':[10,15,25], 'alpha':[1e-4, 1e-3, 1e-2, 1e-1], \n",
    "          'solver':['lbfgs','sgd'], 'learning_rate':['constant', 'adaptive']}\n",
    "\n",
    "nnet = MLPClassifier()\n",
    "clf = GridSearchCV(nnet, param_grid=params, verbose=1, cv=2, n_jobs=-1)\n",
    "clf.fit(x_train_val, y_train_val)\n",
    "\n",
    "print('Best score: {}'.format(clf.best_score_))\n",
    "print('Best parameters: {}'.format(clf.best_params_))"
   ]
  },
  {
   "cell_type": "code",
   "execution_count": 63,
   "metadata": {},
   "outputs": [],
   "source": [
    "nnet_best = clf.best_estimator_"
   ]
  },
  {
   "cell_type": "code",
   "execution_count": 64,
   "metadata": {
    "colab": {
     "base_uri": "https://localhost:8080/",
     "height": 173
    },
    "colab_type": "code",
    "id": "y3svSRrbGOCD",
    "outputId": "f11a98ab-8864-4ce8-ae61-a49fd1a003aa"
   },
   "outputs": [
    {
     "name": "stdout",
     "output_type": "stream",
     "text": [
      "             precision    recall  f1-score   support\n",
      "\n",
      "          0       0.94      0.98      0.96     17642\n",
      "          1       0.92      0.75      0.83      4464\n",
      "\n",
      "avg / total       0.94      0.94      0.94     22106\n",
      "\n"
     ]
    }
   ],
   "source": [
    "y_pred = nnet_best.predict(x_test)\n",
    "print(classification_report(y_test, y_pred))"
   ]
  },
  {
   "cell_type": "code",
   "execution_count": 65,
   "metadata": {
    "colab": {},
    "colab_type": "code",
    "id": "NjeYgUKEGODD"
   },
   "outputs": [],
   "source": [
    "y_pred = nnet_best.predict_proba(x_test)[:, 1]"
   ]
  },
  {
   "cell_type": "code",
   "execution_count": 66,
   "metadata": {
    "colab": {
     "base_uri": "https://localhost:8080/",
     "height": 1000
    },
    "colab_type": "code",
    "id": "XwyIFd3tGODO",
    "outputId": "b67f6def-8528-4184-a5c2-d43fe66ebb38"
   },
   "outputs": [
    {
     "name": "stdout",
     "output_type": "stream",
     "text": [
      "0.25\n",
      "             precision    recall  f1-score   support\n",
      "\n",
      "          0       0.99      0.91      0.95     17642\n",
      "          1       0.73      0.98      0.83      4464\n",
      "\n",
      "avg / total       0.94      0.92      0.92     22106\n",
      "\n",
      "0.3\n",
      "             precision    recall  f1-score   support\n",
      "\n",
      "          0       0.99      0.91      0.95     17642\n",
      "          1       0.73      0.97      0.83      4464\n",
      "\n",
      "avg / total       0.94      0.92      0.93     22106\n",
      "\n",
      "0.35\n",
      "             precision    recall  f1-score   support\n",
      "\n",
      "          0       0.99      0.92      0.95     17642\n",
      "          1       0.74      0.97      0.84      4464\n",
      "\n",
      "avg / total       0.94      0.93      0.93     22106\n",
      "\n",
      "0.4\n",
      "             precision    recall  f1-score   support\n",
      "\n",
      "          0       0.99      0.92      0.95     17642\n",
      "          1       0.76      0.94      0.84      4464\n",
      "\n",
      "avg / total       0.94      0.93      0.93     22106\n",
      "\n",
      "0.45\n",
      "             precision    recall  f1-score   support\n",
      "\n",
      "          0       0.97      0.94      0.96     17642\n",
      "          1       0.80      0.89      0.85      4464\n",
      "\n",
      "avg / total       0.94      0.93      0.94     22106\n",
      "\n",
      "0.5\n",
      "             precision    recall  f1-score   support\n",
      "\n",
      "          0       0.94      0.98      0.96     17642\n",
      "          1       0.92      0.75      0.83      4464\n",
      "\n",
      "avg / total       0.94      0.94      0.94     22106\n",
      "\n",
      "0.55\n",
      "             precision    recall  f1-score   support\n",
      "\n",
      "          0       0.93      0.99      0.96     17642\n",
      "          1       0.94      0.72      0.82      4464\n",
      "\n",
      "avg / total       0.94      0.94      0.93     22106\n",
      "\n",
      "0.6\n",
      "             precision    recall  f1-score   support\n",
      "\n",
      "          0       0.93      0.99      0.96     17642\n",
      "          1       0.97      0.69      0.81      4464\n",
      "\n",
      "avg / total       0.94      0.93      0.93     22106\n",
      "\n",
      "0.65\n",
      "             precision    recall  f1-score   support\n",
      "\n",
      "          0       0.92      1.00      0.96     17642\n",
      "          1       0.98      0.68      0.80      4464\n",
      "\n",
      "avg / total       0.94      0.93      0.93     22106\n",
      "\n",
      "0.7\n",
      "             precision    recall  f1-score   support\n",
      "\n",
      "          0       0.92      1.00      0.96     17642\n",
      "          1       0.99      0.67      0.80      4464\n",
      "\n",
      "avg / total       0.94      0.93      0.93     22106\n",
      "\n"
     ]
    }
   ],
   "source": [
    "def with_threshold(y_pred, threshold):\n",
    "    return [1 if y >= threshold else 0 for y in y_pred]\n",
    "\n",
    "threshold = [0.25, 0.3, 0.35, 0.4, 0.45, 0.5, 0.55, 0.6, 0.65, 0.7]\n",
    "for t in threshold:\n",
    "    y_final=with_threshold(y_pred, t)\n",
    "    print(t)\n",
    "    print(classification_report(y_test, y_final))"
   ]
  },
  {
   "cell_type": "code",
   "execution_count": 131,
   "metadata": {
    "colab": {},
    "colab_type": "code",
    "id": "plqwzyMUGZyD"
   },
   "outputs": [
    {
     "data": {
      "text/plain": [
       "VotingClassifier(estimators=[('lr', LogisticRegression(C=10, class_weight='balanced', dual=False,\n",
       "          fit_intercept=True, intercept_scaling=1, max_iter=100,\n",
       "          multi_class='ovr', n_jobs=1, penalty='l2', random_state=None,\n",
       "          solver='liblinear', tol=0.0001, verbose=0, warm_start=False)), ('rf', Ra...True, solver='lbfgs', tol=0.0001, validation_fraction=0.1,\n",
       "       verbose=False, warm_start=False))],\n",
       "         flatten_transform=None, n_jobs=-1, voting='soft', weights=None)"
      ]
     },
     "execution_count": 131,
     "metadata": {},
     "output_type": "execute_result"
    }
   ],
   "source": [
    "voted_class = VotingClassifier(estimators=[('lr', log_best),('rf', rf_best), ('gbm', gbm_best), \n",
    "                                           ('xgb', xgb_best),('nnet', nnet_best)], voting='soft', n_jobs=-1)\n",
    "\n",
    "voted_class.fit(x_train_val, y_train_val)"
   ]
  },
  {
   "cell_type": "code",
   "execution_count": 132,
   "metadata": {
    "colab": {},
    "colab_type": "code",
    "id": "xZJRtNvUHENh"
   },
   "outputs": [],
   "source": [
    "y_pred = voted_class.predict_proba(x_test)[:, 1]"
   ]
  },
  {
   "cell_type": "code",
   "execution_count": 133,
   "metadata": {
    "colab": {
     "base_uri": "https://localhost:8080/",
     "height": 1000
    },
    "colab_type": "code",
    "id": "wLExPiGnHENo",
    "outputId": "67473f0b-cfb0-4b8e-b24c-9a1cd85f0800"
   },
   "outputs": [
    {
     "name": "stdout",
     "output_type": "stream",
     "text": [
      "0.1\n",
      "             precision    recall  f1-score   support\n",
      "\n",
      "          0       1.00      0.88      0.93     17642\n",
      "          1       0.67      1.00      0.80      4464\n",
      "\n",
      "avg / total       0.93      0.90      0.91     22106\n",
      "\n",
      "0.2\n",
      "             precision    recall  f1-score   support\n",
      "\n",
      "          0       1.00      0.90      0.95     17642\n",
      "          1       0.71      0.99      0.83      4464\n",
      "\n",
      "avg / total       0.94      0.92      0.92     22106\n",
      "\n",
      "0.3\n",
      "             precision    recall  f1-score   support\n",
      "\n",
      "          0       0.99      0.92      0.96     17642\n",
      "          1       0.76      0.97      0.85      4464\n",
      "\n",
      "avg / total       0.95      0.93      0.94     22106\n",
      "\n",
      "0.4\n",
      "             precision    recall  f1-score   support\n",
      "\n",
      "          0       0.99      0.94      0.96     17642\n",
      "          1       0.80      0.95      0.87      4464\n",
      "\n",
      "avg / total       0.95      0.94      0.94     22106\n",
      "\n",
      "0.5\n",
      "             precision    recall  f1-score   support\n",
      "\n",
      "          0       0.98      0.95      0.97     17642\n",
      "          1       0.83      0.91      0.87      4464\n",
      "\n",
      "avg / total       0.95      0.95      0.95     22106\n",
      "\n",
      "0.6\n",
      "             precision    recall  f1-score   support\n",
      "\n",
      "          0       0.96      0.97      0.97     17642\n",
      "          1       0.89      0.85      0.87      4464\n",
      "\n",
      "avg / total       0.95      0.95      0.95     22106\n",
      "\n",
      "0.7\n",
      "             precision    recall  f1-score   support\n",
      "\n",
      "          0       0.94      0.99      0.97     17642\n",
      "          1       0.96      0.76      0.85      4464\n",
      "\n",
      "avg / total       0.94      0.94      0.94     22106\n",
      "\n",
      "0.8\n",
      "             precision    recall  f1-score   support\n",
      "\n",
      "          0       0.93      1.00      0.96     17642\n",
      "          1       0.99      0.70      0.82      4464\n",
      "\n",
      "avg / total       0.94      0.94      0.93     22106\n",
      "\n",
      "0.9\n",
      "             precision    recall  f1-score   support\n",
      "\n",
      "          0       0.92      1.00      0.96     17642\n",
      "          1       1.00      0.68      0.81      4464\n",
      "\n",
      "avg / total       0.94      0.93      0.93     22106\n",
      "\n"
     ]
    }
   ],
   "source": [
    "def with_threshold(y_pred, threshold):\n",
    "    return [1 if y >= threshold else 0 for y in y_pred]\n",
    "\n",
    "threshold = [0.1, 0.2, 0.3, 0.4, 0.5, 0.6, 0.7, 0.8, 0.9]\n",
    "for t in threshold:\n",
    "    y_final=with_threshold(y_pred, t)\n",
    "    print(t)\n",
    "    print(classification_report(y_test, y_final))"
   ]
  },
  {
   "cell_type": "code",
   "execution_count": 89,
   "metadata": {},
   "outputs": [],
   "source": [
    "def Stacking(model, x_train, y_train, test, n_fold):\n",
    "    folds = StratifiedKFold(n_splits=n_fold)\n",
    "    test_pred=np.empty((0))\n",
    "    train_pred = np.empty((0))\n",
    "    \n",
    "    for train_idx, val_idx in folds.split(x_train, y_train):\n",
    "        X_train, X_val, Y_train, Y_val = x_train.iloc[train_idx], x_train.iloc[val_idx], y_train.iloc[train_idx], y_train.iloc[val_idx]\n",
    "        \n",
    "        model.fit(X_train, Y_train)\n",
    "        train_pred = np.append(train_pred, model.predict(X_val), axis=0)\n",
    "        \n",
    "    test_pred = np.append(test_pred, model.predict(test), axis=0)\n",
    "    return test_pred, train_pred"
   ]
  },
  {
   "cell_type": "code",
   "execution_count": 90,
   "metadata": {},
   "outputs": [],
   "source": [
    "y_train = pd.DataFrame(y_train_val)\n",
    "y_train.columns = [\"No-show\"]"
   ]
  },
  {
   "cell_type": "code",
   "execution_count": 91,
   "metadata": {},
   "outputs": [
    {
     "name": "stdout",
     "output_type": "stream",
     "text": [
      "LogisticRegression(C=10, class_weight='balanced', dual=False,\n",
      "          fit_intercept=True, intercept_scaling=1, max_iter=100,\n",
      "          multi_class='ovr', n_jobs=1, penalty='l2', random_state=None,\n",
      "          solver='liblinear', tol=0.0001, verbose=0, warm_start=False)\n"
     ]
    },
    {
     "name": "stderr",
     "output_type": "stream",
     "text": [
      "c:\\users\\shanu\\anaconda3\\envs\\dl-udacity-pytorch\\lib\\site-packages\\sklearn\\utils\\validation.py:578: DataConversionWarning: A column-vector y was passed when a 1d array was expected. Please change the shape of y to (n_samples, ), for example using ravel().\n",
      "  y = column_or_1d(y, warn=True)\n"
     ]
    },
    {
     "name": "stdout",
     "output_type": "stream",
     "text": [
      "RandomForestClassifier(bootstrap=True, class_weight='balanced',\n",
      "            criterion='entropy', max_depth=20, max_features=10,\n",
      "            max_leaf_nodes=None, min_impurity_decrease=0.0,\n",
      "            min_impurity_split=None, min_samples_leaf=1,\n",
      "            min_samples_split=2, min_weight_fraction_leaf=0.0,\n",
      "            n_estimators=500, n_jobs=1, oob_score=False, random_state=None,\n",
      "            verbose=0, warm_start=False)\n"
     ]
    },
    {
     "name": "stderr",
     "output_type": "stream",
     "text": [
      "c:\\users\\shanu\\anaconda3\\envs\\dl-udacity-pytorch\\lib\\site-packages\\ipykernel_launcher.py:9: DataConversionWarning: A column-vector y was passed when a 1d array was expected. Please change the shape of y to (n_samples,), for example using ravel().\n",
      "  if __name__ == '__main__':\n",
      "c:\\users\\shanu\\anaconda3\\envs\\dl-udacity-pytorch\\lib\\site-packages\\ipykernel_launcher.py:9: DataConversionWarning: A column-vector y was passed when a 1d array was expected. Please change the shape of y to (n_samples,), for example using ravel().\n",
      "  if __name__ == '__main__':\n"
     ]
    },
    {
     "name": "stdout",
     "output_type": "stream",
     "text": [
      "GradientBoostingClassifier(criterion='friedman_mse', init=None,\n",
      "              learning_rate=0.05, loss='deviance', max_depth=3,\n",
      "              max_features=8, max_leaf_nodes=None,\n",
      "              min_impurity_decrease=0.0, min_impurity_split=None,\n",
      "              min_samples_leaf=1, min_samples_split=2,\n",
      "              min_weight_fraction_leaf=0.0, n_estimators=300,\n",
      "              presort='auto', random_state=None, subsample=1.0, verbose=1,\n",
      "              warm_start=False)\n",
      "      Iter       Train Loss   Remaining Time \n",
      "         1           0.9502            9.34s\n",
      "         2           0.9463            6.98s\n",
      "         3           0.9127            6.19s\n",
      "         4           0.9070            4.62s\n",
      "         5           0.8701            4.61s\n"
     ]
    },
    {
     "name": "stderr",
     "output_type": "stream",
     "text": [
      "c:\\users\\shanu\\anaconda3\\envs\\dl-udacity-pytorch\\lib\\site-packages\\sklearn\\utils\\validation.py:578: DataConversionWarning: A column-vector y was passed when a 1d array was expected. Please change the shape of y to (n_samples, ), for example using ravel().\n",
      "  y = column_or_1d(y, warn=True)\n"
     ]
    },
    {
     "name": "stdout",
     "output_type": "stream",
     "text": [
      "         6           0.8530            5.36s\n",
      "         7           0.8058            5.53s\n",
      "         8           0.7705            5.73s\n",
      "         9           0.7639            5.60s\n",
      "        10           0.7577            5.71s\n",
      "        20           0.6175            5.58s\n",
      "        30           0.4852            4.97s\n",
      "        40           0.4194            5.14s\n",
      "        50           0.3634            5.03s\n",
      "        60           0.3249            4.72s\n",
      "        70           0.2929            4.49s\n",
      "        80           0.2779            4.25s\n",
      "        90           0.2658            4.17s\n",
      "       100           0.2579            4.01s\n",
      "       200           0.2142            2.05s\n",
      "       300           0.2037            0.00s\n",
      "      Iter       Train Loss   Remaining Time \n",
      "         1           0.9499            3.57s\n",
      "         2           0.8979            3.86s\n",
      "         3           0.8650            4.54s\n",
      "         4           0.8165            4.65s\n",
      "         5           0.7785            4.71s\n",
      "         6           0.7401            4.69s\n",
      "         7           0.7346            4.72s\n",
      "         8           0.7295            4.73s\n",
      "         9           0.7163            4.74s\n",
      "        10           0.7121            4.77s\n",
      "        20           0.5608            4.51s\n",
      "        30           0.4583            4.30s\n",
      "        40           0.3889            4.23s\n",
      "        50           0.3527            4.05s\n",
      "        60           0.3204            3.88s\n",
      "        70           0.2997            3.77s\n",
      "        80           0.2874            3.57s\n",
      "        90           0.2747            3.39s\n",
      "       100           0.2611            3.26s\n",
      "       200           0.2093            1.65s\n",
      "       300           0.1964            0.00s\n",
      "XGBClassifier(base_score=0.5, booster='gbtree', colsample_bylevel=1,\n",
      "       colsample_bynode=1, colsample_bytree=1, gamma=0, learning_rate=0.05,\n",
      "       max_delta_step=0, max_depth=5, min_child_weight=1, missing=None,\n",
      "       n_estimators=200, n_jobs=1, nthread=None,\n",
      "       objective='binary:logistic', random_state=0, reg_alpha=0,\n",
      "       reg_lambda=1, scale_pos_weight=1, seed=None, silent=None,\n",
      "       subsample=1, verbosity=1)\n"
     ]
    },
    {
     "name": "stderr",
     "output_type": "stream",
     "text": [
      "c:\\users\\shanu\\anaconda3\\envs\\dl-udacity-pytorch\\lib\\site-packages\\sklearn\\preprocessing\\label.py:95: DataConversionWarning: A column-vector y was passed when a 1d array was expected. Please change the shape of y to (n_samples, ), for example using ravel().\n",
      "  y = column_or_1d(y, warn=True)\n",
      "c:\\users\\shanu\\anaconda3\\envs\\dl-udacity-pytorch\\lib\\site-packages\\sklearn\\preprocessing\\label.py:128: DataConversionWarning: A column-vector y was passed when a 1d array was expected. Please change the shape of y to (n_samples, ), for example using ravel().\n",
      "  y = column_or_1d(y, warn=True)\n",
      "c:\\users\\shanu\\anaconda3\\envs\\dl-udacity-pytorch\\lib\\site-packages\\sklearn\\preprocessing\\label.py:151: DeprecationWarning: The truth value of an empty array is ambiguous. Returning False, but in future this will result in an error. Use `array.size > 0` to check that an array is not empty.\n",
      "  if diff:\n",
      "c:\\users\\shanu\\anaconda3\\envs\\dl-udacity-pytorch\\lib\\site-packages\\sklearn\\preprocessing\\label.py:95: DataConversionWarning: A column-vector y was passed when a 1d array was expected. Please change the shape of y to (n_samples, ), for example using ravel().\n",
      "  y = column_or_1d(y, warn=True)\n",
      "c:\\users\\shanu\\anaconda3\\envs\\dl-udacity-pytorch\\lib\\site-packages\\sklearn\\preprocessing\\label.py:128: DataConversionWarning: A column-vector y was passed when a 1d array was expected. Please change the shape of y to (n_samples, ), for example using ravel().\n",
      "  y = column_or_1d(y, warn=True)\n",
      "c:\\users\\shanu\\anaconda3\\envs\\dl-udacity-pytorch\\lib\\site-packages\\sklearn\\preprocessing\\label.py:151: DeprecationWarning: The truth value of an empty array is ambiguous. Returning False, but in future this will result in an error. Use `array.size > 0` to check that an array is not empty.\n",
      "  if diff:\n",
      "c:\\users\\shanu\\anaconda3\\envs\\dl-udacity-pytorch\\lib\\site-packages\\sklearn\\preprocessing\\label.py:151: DeprecationWarning: The truth value of an empty array is ambiguous. Returning False, but in future this will result in an error. Use `array.size > 0` to check that an array is not empty.\n",
      "  if diff:\n",
      "c:\\users\\shanu\\anaconda3\\envs\\dl-udacity-pytorch\\lib\\site-packages\\sklearn\\neural_network\\multilayer_perceptron.py:912: DataConversionWarning: A column-vector y was passed when a 1d array was expected. Please change the shape of y to (n_samples, ), for example using ravel().\n",
      "  y = column_or_1d(y, warn=True)\n"
     ]
    },
    {
     "name": "stdout",
     "output_type": "stream",
     "text": [
      "MLPClassifier(activation='logistic', alpha=0.0001, batch_size='auto',\n",
      "       beta_1=0.9, beta_2=0.999, early_stopping=False, epsilon=1e-08,\n",
      "       hidden_layer_sizes=15, learning_rate='adaptive',\n",
      "       learning_rate_init=0.001, max_iter=200, momentum=0.9,\n",
      "       nesterovs_momentum=True, power_t=0.5, random_state=None,\n",
      "       shuffle=True, solver='lbfgs', tol=0.0001, validation_fraction=0.1,\n",
      "       verbose=False, warm_start=False)\n"
     ]
    }
   ],
   "source": [
    "models = [log_best, rf_best, gbm_best, xgb_best, nnet_best]\n",
    "df_ensemble_train = pd.DataFrame()\n",
    "df_ensemble_test = pd.DataFrame()\n",
    "\n",
    "x_train_val = pd.DataFrame(x_train_val)\n",
    "x_train_val.columns = x.columns\n",
    "\n",
    "for model in models:\n",
    "    print(model)\n",
    "    test_pred, train_pred = Stacking(model, x_train_val, y_train, x_test, 2)\n",
    "    \n",
    "    test_df = pd.DataFrame(test_pred)\n",
    "    train_df = pd.DataFrame(train_pred)\n",
    "    \n",
    "    df_ensemble_train = pd.concat([df_ensemble_train, train_df], axis=1)\n",
    "    df_ensemble_test = pd.concat([df_ensemble_test, test_df], axis=1)"
   ]
  },
  {
   "cell_type": "code",
   "execution_count": 94,
   "metadata": {},
   "outputs": [],
   "source": [
    "df_ensemble_train_dummies = pd.DataFrame(pd.get_dummies(df_ensemble_train))\n",
    "df_ensemble_train_dummies.columns = [\"lr\", \"rf\", 'gbm', 'xgb', 'nnet']\n",
    "df_ensemble_test_dummies = pd.DataFrame(pd.get_dummies(df_ensemble_test))\n",
    "df_ensemble_test_dummies.columns = [\"lr\", \"rf\", 'gbm', 'xgb', 'nnet']"
   ]
  },
  {
   "cell_type": "code",
   "execution_count": 95,
   "metadata": {},
   "outputs": [
    {
     "name": "stderr",
     "output_type": "stream",
     "text": [
      "c:\\users\\shanu\\anaconda3\\envs\\dl-udacity-pytorch\\lib\\site-packages\\sklearn\\preprocessing\\label.py:95: DataConversionWarning: A column-vector y was passed when a 1d array was expected. Please change the shape of y to (n_samples, ), for example using ravel().\n",
      "  y = column_or_1d(y, warn=True)\n",
      "c:\\users\\shanu\\anaconda3\\envs\\dl-udacity-pytorch\\lib\\site-packages\\sklearn\\preprocessing\\label.py:128: DataConversionWarning: A column-vector y was passed when a 1d array was expected. Please change the shape of y to (n_samples, ), for example using ravel().\n",
      "  y = column_or_1d(y, warn=True)\n"
     ]
    }
   ],
   "source": [
    "xgb_best = XGBClassifier(learning_rate=0.05, max_depth=10, n_estimators=400,verbosity=1).fit(df_ensemble_train_dummies, y_train)"
   ]
  },
  {
   "cell_type": "code",
   "execution_count": 98,
   "metadata": {},
   "outputs": [
    {
     "name": "stdout",
     "output_type": "stream",
     "text": [
      "Fitting 2 folds for each of 27 candidates, totalling 54 fits\n"
     ]
    },
    {
     "name": "stderr",
     "output_type": "stream",
     "text": [
      "[Parallel(n_jobs=-1)]: Done  34 tasks      | elapsed:  1.0min\n",
      "[Parallel(n_jobs=-1)]: Done  54 out of  54 | elapsed:  1.6min finished\n",
      "c:\\users\\shanu\\anaconda3\\envs\\dl-udacity-pytorch\\lib\\site-packages\\sklearn\\preprocessing\\label.py:95: DataConversionWarning: A column-vector y was passed when a 1d array was expected. Please change the shape of y to (n_samples, ), for example using ravel().\n",
      "  y = column_or_1d(y, warn=True)\n",
      "c:\\users\\shanu\\anaconda3\\envs\\dl-udacity-pytorch\\lib\\site-packages\\sklearn\\preprocessing\\label.py:128: DataConversionWarning: A column-vector y was passed when a 1d array was expected. Please change the shape of y to (n_samples, ), for example using ravel().\n",
      "  y = column_or_1d(y, warn=True)\n"
     ]
    },
    {
     "name": "stdout",
     "output_type": "stream",
     "text": [
      "Best score: 0.9470368694865415\n",
      "Best parameters: {'learning_rate': 0.05, 'max_depth': 5, 'n_estimators': 400}\n"
     ]
    }
   ],
   "source": [
    "params = {'n_estimators': [200, 400, 500], 'learning_rate': [0.05, 0.1, 0.5], 'max_depth': [5, 10, 20]}\n",
    "\n",
    "from xgboost.sklearn import XGBClassifier\n",
    "xgb = XGBClassifier(verbosity=1)\n",
    "clf = GridSearchCV(xgb, param_grid=params, n_jobs=-1, verbose=1, cv=2)\n",
    "clf.fit(df_ensemble_train_dummies, y_train)\n",
    "\n",
    "print('Best score: {}'.format(clf.best_score_))\n",
    "print('Best parameters: {}'.format(clf.best_params_))"
   ]
  },
  {
   "cell_type": "code",
   "execution_count": 100,
   "metadata": {},
   "outputs": [],
   "source": [
    "xgb_ensemble = clf.best_estimator_"
   ]
  },
  {
   "cell_type": "code",
   "execution_count": 101,
   "metadata": {},
   "outputs": [],
   "source": [
    "y_pred = xgb_ensemble.predict_proba(df_ensemble_test_dummies)[:, 1]"
   ]
  },
  {
   "cell_type": "code",
   "execution_count": 102,
   "metadata": {},
   "outputs": [
    {
     "name": "stdout",
     "output_type": "stream",
     "text": [
      "0.05\n",
      "             precision    recall  f1-score   support\n",
      "\n",
      "          0       0.99      0.92      0.95     17642\n",
      "          1       0.75      0.97      0.84      4464\n",
      "\n",
      "avg / total       0.94      0.93      0.93     22106\n",
      "\n",
      "0.1\n",
      "             precision    recall  f1-score   support\n",
      "\n",
      "          0       0.99      0.92      0.95     17642\n",
      "          1       0.75      0.97      0.84      4464\n",
      "\n",
      "avg / total       0.94      0.93      0.93     22106\n",
      "\n",
      "0.2\n",
      "             precision    recall  f1-score   support\n",
      "\n",
      "          0       0.99      0.92      0.95     17642\n",
      "          1       0.75      0.97      0.84      4464\n",
      "\n",
      "avg / total       0.94      0.93      0.93     22106\n",
      "\n",
      "0.25\n",
      "             precision    recall  f1-score   support\n",
      "\n",
      "          0       0.98      0.95      0.96     17642\n",
      "          1       0.82      0.93      0.87      4464\n",
      "\n",
      "avg / total       0.95      0.94      0.95     22106\n",
      "\n",
      "0.3\n",
      "             precision    recall  f1-score   support\n",
      "\n",
      "          0       0.98      0.95      0.97     17642\n",
      "          1       0.83      0.92      0.87      4464\n",
      "\n",
      "avg / total       0.95      0.95      0.95     22106\n",
      "\n",
      "0.4\n",
      "             precision    recall  f1-score   support\n",
      "\n",
      "          0       0.98      0.95      0.97     17642\n",
      "          1       0.83      0.92      0.87      4464\n",
      "\n",
      "avg / total       0.95      0.95      0.95     22106\n",
      "\n",
      "0.5\n",
      "             precision    recall  f1-score   support\n",
      "\n",
      "          0       0.97      0.97      0.97     17642\n",
      "          1       0.87      0.87      0.87      4464\n",
      "\n",
      "avg / total       0.95      0.95      0.95     22106\n",
      "\n",
      "0.6\n",
      "             precision    recall  f1-score   support\n",
      "\n",
      "          0       0.96      0.97      0.97     17642\n",
      "          1       0.89      0.84      0.87      4464\n",
      "\n",
      "avg / total       0.95      0.95      0.95     22106\n",
      "\n",
      "0.7\n",
      "             precision    recall  f1-score   support\n",
      "\n",
      "          0       0.96      0.97      0.97     17642\n",
      "          1       0.89      0.84      0.87      4464\n",
      "\n",
      "avg / total       0.95      0.95      0.95     22106\n",
      "\n",
      "0.8\n",
      "             precision    recall  f1-score   support\n",
      "\n",
      "          0       0.96      0.97      0.97     17642\n",
      "          1       0.89      0.84      0.87      4464\n",
      "\n",
      "avg / total       0.95      0.95      0.95     22106\n",
      "\n",
      "0.85\n",
      "             precision    recall  f1-score   support\n",
      "\n",
      "          0       0.96      0.97      0.97     17642\n",
      "          1       0.89      0.84      0.87      4464\n",
      "\n",
      "avg / total       0.95      0.95      0.95     22106\n",
      "\n",
      "0.9\n",
      "             precision    recall  f1-score   support\n",
      "\n",
      "          0       0.80      1.00      0.89     17642\n",
      "          1       0.00      0.00      0.00      4464\n",
      "\n",
      "avg / total       0.64      0.80      0.71     22106\n",
      "\n"
     ]
    },
    {
     "name": "stderr",
     "output_type": "stream",
     "text": [
      "c:\\users\\shanu\\anaconda3\\envs\\dl-udacity-pytorch\\lib\\site-packages\\sklearn\\metrics\\classification.py:1135: UndefinedMetricWarning: Precision and F-score are ill-defined and being set to 0.0 in labels with no predicted samples.\n",
      "  'precision', 'predicted', average, warn_for)\n"
     ]
    }
   ],
   "source": [
    "def with_threshold(y_pred, threshold):\n",
    "    return [1 if y >= threshold else 0 for y in y_pred]\n",
    "\n",
    "threshold = [0.05, 0.1, 0.2, 0.25, 0.3, 0.4, 0.5, 0.6, 0.7, 0.8, 0.85, 0.9]\n",
    "for t in threshold:\n",
    "    y_final=with_threshold(y_pred, t)\n",
    "    print(t)\n",
    "    print(classification_report(y_test, y_final))"
   ]
  },
  {
   "cell_type": "code",
   "execution_count": 104,
   "metadata": {},
   "outputs": [
    {
     "name": "stdout",
     "output_type": "stream",
     "text": [
      "Fitting 2 folds for each of 12 candidates, totalling 24 fits\n"
     ]
    },
    {
     "name": "stderr",
     "output_type": "stream",
     "text": [
      "[Parallel(n_jobs=-1)]: Done  24 out of  24 | elapsed:  1.2min finished\n",
      "c:\\users\\shanu\\anaconda3\\envs\\dl-udacity-pytorch\\lib\\site-packages\\sklearn\\utils\\validation.py:578: DataConversionWarning: A column-vector y was passed when a 1d array was expected. Please change the shape of y to (n_samples, ), for example using ravel().\n",
      "  y = column_or_1d(y, warn=True)\n"
     ]
    },
    {
     "name": "stdout",
     "output_type": "stream",
     "text": [
      "      Iter       Train Loss   Remaining Time \n",
      "         1           0.9337           14.31s\n",
      "         2           0.8736           13.37s\n",
      "         3           0.8222           12.12s\n",
      "         4           0.7776           10.83s\n",
      "         5           0.7383            9.87s\n",
      "         6           0.7032            9.22s\n",
      "         7           0.6717            8.78s\n",
      "         8           0.6433            8.42s\n",
      "         9           0.6174            8.20s\n",
      "        10           0.5939            8.10s\n",
      "        20           0.4403            8.10s\n",
      "        30           0.3678            7.71s\n",
      "        40           0.3323            7.07s\n",
      "        50           0.3154            6.82s\n",
      "        60           0.3073            6.41s\n",
      "        70           0.3036            6.18s\n",
      "        80           0.3021            5.95s\n",
      "        90           0.3014            5.59s\n",
      "       100           0.3012            5.21s\n",
      "       200           0.3006            2.61s\n",
      "       300           0.3006            0.00s\n",
      "Best score: 0.9472065143632662\n",
      "Best parameters: {'learning_rate': 0.05, 'loss': 'deviance', 'n_estimators': 300}\n"
     ]
    }
   ],
   "source": [
    "params = {'n_estimators': [300,400], 'learning_rate': [0.05, 0.1, 0.5], 'loss': [\"deviance\", \"exponential\"]}\n",
    "\n",
    "gbm = GradientBoostingClassifier(verbose=1)\n",
    "clf = GridSearchCV(gbm, param_grid=params, n_jobs=-1, verbose=1, cv=2)\n",
    "clf.fit(df_ensemble_train_dummies, y_train)\n",
    "\n",
    "print('Best score: {}'.format(clf.best_score_))\n",
    "print('Best parameters: {}'.format(clf.best_params_))"
   ]
  },
  {
   "cell_type": "code",
   "execution_count": 105,
   "metadata": {},
   "outputs": [],
   "source": [
    "gbm_ensemble = clf.best_estimator_"
   ]
  },
  {
   "cell_type": "code",
   "execution_count": 106,
   "metadata": {},
   "outputs": [],
   "source": [
    "y_pred = gbm_ensemble.predict_proba(df_ensemble_test_dummies)[:, 1]"
   ]
  },
  {
   "cell_type": "code",
   "execution_count": 107,
   "metadata": {},
   "outputs": [
    {
     "name": "stdout",
     "output_type": "stream",
     "text": [
      "0.05\n",
      "             precision    recall  f1-score   support\n",
      "\n",
      "          0       0.99      0.92      0.95     17642\n",
      "          1       0.75      0.97      0.84      4464\n",
      "\n",
      "avg / total       0.94      0.93      0.93     22106\n",
      "\n",
      "0.1\n",
      "             precision    recall  f1-score   support\n",
      "\n",
      "          0       0.99      0.92      0.95     17642\n",
      "          1       0.75      0.97      0.84      4464\n",
      "\n",
      "avg / total       0.94      0.93      0.93     22106\n",
      "\n",
      "0.2\n",
      "             precision    recall  f1-score   support\n",
      "\n",
      "          0       0.99      0.92      0.95     17642\n",
      "          1       0.75      0.97      0.84      4464\n",
      "\n",
      "avg / total       0.94      0.93      0.93     22106\n",
      "\n",
      "0.25\n",
      "             precision    recall  f1-score   support\n",
      "\n",
      "          0       0.98      0.95      0.96     17642\n",
      "          1       0.82      0.93      0.87      4464\n",
      "\n",
      "avg / total       0.95      0.94      0.95     22106\n",
      "\n",
      "0.3\n",
      "             precision    recall  f1-score   support\n",
      "\n",
      "          0       0.98      0.95      0.97     17642\n",
      "          1       0.83      0.92      0.87      4464\n",
      "\n",
      "avg / total       0.95      0.95      0.95     22106\n",
      "\n",
      "0.4\n",
      "             precision    recall  f1-score   support\n",
      "\n",
      "          0       0.98      0.95      0.97     17642\n",
      "          1       0.83      0.92      0.87      4464\n",
      "\n",
      "avg / total       0.95      0.95      0.95     22106\n",
      "\n",
      "0.5\n",
      "             precision    recall  f1-score   support\n",
      "\n",
      "          0       0.97      0.97      0.97     17642\n",
      "          1       0.87      0.87      0.87      4464\n",
      "\n",
      "avg / total       0.95      0.95      0.95     22106\n",
      "\n",
      "0.54\n",
      "             precision    recall  f1-score   support\n",
      "\n",
      "          0       0.96      0.97      0.97     17642\n",
      "          1       0.88      0.85      0.87      4464\n",
      "\n",
      "avg / total       0.95      0.95      0.95     22106\n",
      "\n",
      "0.6\n",
      "             precision    recall  f1-score   support\n",
      "\n",
      "          0       0.96      0.97      0.97     17642\n",
      "          1       0.89      0.84      0.87      4464\n",
      "\n",
      "avg / total       0.95      0.95      0.95     22106\n",
      "\n",
      "0.7\n",
      "             precision    recall  f1-score   support\n",
      "\n",
      "          0       0.96      0.97      0.97     17642\n",
      "          1       0.89      0.84      0.87      4464\n",
      "\n",
      "avg / total       0.95      0.95      0.95     22106\n",
      "\n",
      "0.8\n",
      "             precision    recall  f1-score   support\n",
      "\n",
      "          0       0.96      0.97      0.97     17642\n",
      "          1       0.89      0.84      0.87      4464\n",
      "\n",
      "avg / total       0.95      0.95      0.95     22106\n",
      "\n",
      "0.85\n",
      "             precision    recall  f1-score   support\n",
      "\n",
      "          0       0.96      0.97      0.97     17642\n",
      "          1       0.89      0.84      0.87      4464\n",
      "\n",
      "avg / total       0.95      0.95      0.95     22106\n",
      "\n",
      "0.9\n",
      "             precision    recall  f1-score   support\n",
      "\n",
      "          0       0.80      1.00      0.89     17642\n",
      "          1       0.00      0.00      0.00      4464\n",
      "\n",
      "avg / total       0.64      0.80      0.71     22106\n",
      "\n"
     ]
    },
    {
     "name": "stderr",
     "output_type": "stream",
     "text": [
      "c:\\users\\shanu\\anaconda3\\envs\\dl-udacity-pytorch\\lib\\site-packages\\sklearn\\metrics\\classification.py:1135: UndefinedMetricWarning: Precision and F-score are ill-defined and being set to 0.0 in labels with no predicted samples.\n",
      "  'precision', 'predicted', average, warn_for)\n"
     ]
    }
   ],
   "source": [
    "def with_threshold(y_pred, threshold):\n",
    "    return [1 if y >= threshold else 0 for y in y_pred]\n",
    "\n",
    "threshold = [0.05, 0.1, 0.2, 0.25, 0.3, 0.4, 0.5, 0.54, 0.6, 0.7, 0.8, 0.85, 0.9]\n",
    "for t in threshold:\n",
    "    y_final=with_threshold(y_pred, t)\n",
    "    print(t)\n",
    "    print(classification_report(y_test, y_final))"
   ]
  },
  {
   "cell_type": "code",
   "execution_count": 108,
   "metadata": {},
   "outputs": [
    {
     "name": "stdout",
     "output_type": "stream",
     "text": [
      "Fitting 2 folds for each of 6 candidates, totalling 12 fits\n"
     ]
    },
    {
     "name": "stderr",
     "output_type": "stream",
     "text": [
      "[Parallel(n_jobs=-1)]: Done  10 out of  12 | elapsed:   28.1s remaining:    5.5s\n",
      "[Parallel(n_jobs=-1)]: Done  12 out of  12 | elapsed:   29.8s finished\n",
      "c:\\users\\shanu\\anaconda3\\envs\\dl-udacity-pytorch\\lib\\site-packages\\sklearn\\model_selection\\_search.py:740: DataConversionWarning: A column-vector y was passed when a 1d array was expected. Please change the shape of y to (n_samples,), for example using ravel().\n",
      "  self.best_estimator_.fit(X, y, **fit_params)\n"
     ]
    },
    {
     "name": "stdout",
     "output_type": "stream",
     "text": [
      "Best score: 0.9241687401040488\n",
      "Best parameters: {'criterion': 'entropy', 'max_depth': 5, 'n_estimators': 300}\n"
     ]
    }
   ],
   "source": [
    "params = {'n_estimators': [300, 500], 'criterion': ['entropy'], 'max_depth': [5, 10, 20]}\n",
    "\n",
    "rf = RandomForestClassifier(class_weight=\"balanced\")\n",
    "clf = GridSearchCV(rf, param_grid=params, n_jobs=-1, verbose=1, cv=2)\n",
    "clf.fit(df_ensemble_train_dummies, y_train)\n",
    "print('Best score: {}'.format(clf.best_score_))\n",
    "print('Best parameters: {}'.format(clf.best_params_))"
   ]
  },
  {
   "cell_type": "code",
   "execution_count": 109,
   "metadata": {},
   "outputs": [],
   "source": [
    "rf_ensemble = clf.best_estimator_"
   ]
  },
  {
   "cell_type": "code",
   "execution_count": 110,
   "metadata": {},
   "outputs": [],
   "source": [
    "y_pred = rf_ensemble.predict_proba(df_ensemble_test_dummies)[:, 1]"
   ]
  },
  {
   "cell_type": "code",
   "execution_count": 111,
   "metadata": {},
   "outputs": [
    {
     "name": "stdout",
     "output_type": "stream",
     "text": [
      "0.05\n",
      "             precision    recall  f1-score   support\n",
      "\n",
      "          0       0.99      0.92      0.95     17642\n",
      "          1       0.75      0.97      0.84      4464\n",
      "\n",
      "avg / total       0.94      0.93      0.93     22106\n",
      "\n",
      "0.1\n",
      "             precision    recall  f1-score   support\n",
      "\n",
      "          0       0.99      0.92      0.95     17642\n",
      "          1       0.75      0.97      0.84      4464\n",
      "\n",
      "avg / total       0.94      0.93      0.93     22106\n",
      "\n",
      "0.2\n",
      "             precision    recall  f1-score   support\n",
      "\n",
      "          0       0.99      0.92      0.95     17642\n",
      "          1       0.75      0.97      0.84      4464\n",
      "\n",
      "avg / total       0.94      0.93      0.93     22106\n",
      "\n",
      "0.25\n",
      "             precision    recall  f1-score   support\n",
      "\n",
      "          0       0.99      0.92      0.95     17642\n",
      "          1       0.75      0.97      0.84      4464\n",
      "\n",
      "avg / total       0.94      0.93      0.93     22106\n",
      "\n",
      "0.3\n",
      "             precision    recall  f1-score   support\n",
      "\n",
      "          0       0.99      0.92      0.95     17642\n",
      "          1       0.75      0.97      0.84      4464\n",
      "\n",
      "avg / total       0.94      0.93      0.93     22106\n",
      "\n",
      "0.4\n",
      "             precision    recall  f1-score   support\n",
      "\n",
      "          0       0.99      0.92      0.95     17642\n",
      "          1       0.75      0.97      0.84      4464\n",
      "\n",
      "avg / total       0.94      0.93      0.93     22106\n",
      "\n",
      "0.5\n",
      "             precision    recall  f1-score   support\n",
      "\n",
      "          0       0.99      0.92      0.95     17642\n",
      "          1       0.75      0.97      0.84      4464\n",
      "\n",
      "avg / total       0.94      0.93      0.93     22106\n",
      "\n",
      "0.54\n",
      "             precision    recall  f1-score   support\n",
      "\n",
      "          0       0.98      0.95      0.96     17642\n",
      "          1       0.82      0.93      0.87      4464\n",
      "\n",
      "avg / total       0.95      0.94      0.95     22106\n",
      "\n",
      "0.6\n",
      "             precision    recall  f1-score   support\n",
      "\n",
      "          0       0.98      0.95      0.96     17642\n",
      "          1       0.82      0.93      0.87      4464\n",
      "\n",
      "avg / total       0.95      0.94      0.95     22106\n",
      "\n",
      "0.7\n",
      "             precision    recall  f1-score   support\n",
      "\n",
      "          0       0.98      0.95      0.97     17642\n",
      "          1       0.83      0.92      0.87      4464\n",
      "\n",
      "avg / total       0.95      0.95      0.95     22106\n",
      "\n",
      "0.8\n",
      "             precision    recall  f1-score   support\n",
      "\n",
      "          0       0.97      0.97      0.97     17642\n",
      "          1       0.87      0.87      0.87      4464\n",
      "\n",
      "avg / total       0.95      0.95      0.95     22106\n",
      "\n",
      "0.85\n",
      "             precision    recall  f1-score   support\n",
      "\n",
      "          0       0.96      0.97      0.97     17642\n",
      "          1       0.89      0.84      0.87      4464\n",
      "\n",
      "avg / total       0.95      0.95      0.95     22106\n",
      "\n",
      "0.9\n",
      "             precision    recall  f1-score   support\n",
      "\n",
      "          0       0.96      0.97      0.97     17642\n",
      "          1       0.89      0.84      0.87      4464\n",
      "\n",
      "avg / total       0.95      0.95      0.95     22106\n",
      "\n"
     ]
    }
   ],
   "source": [
    "def with_threshold(y_pred, threshold):\n",
    "    return [1 if y >= threshold else 0 for y in y_pred]\n",
    "\n",
    "threshold = [0.05, 0.1, 0.2, 0.25, 0.3, 0.4, 0.5, 0.54, 0.6, 0.7, 0.8, 0.85, 0.9]\n",
    "for t in threshold:\n",
    "    y_final=with_threshold(y_pred, t)\n",
    "    print(t)\n",
    "    print(classification_report(y_test, y_final))"
   ]
  },
  {
   "cell_type": "markdown",
   "metadata": {},
   "source": [
    "The most stable classifier we got from is gbm stacking ensemble and xgb stacking ensemble classifier"
   ]
  },
  {
   "cell_type": "code",
   "execution_count": 145,
   "metadata": {},
   "outputs": [
    {
     "name": "stdout",
     "output_type": "stream",
     "text": [
      "             precision    recall  f1-score   support\n",
      "\n",
      "          0       0.97      0.97      0.97     17642\n",
      "          1       0.87      0.87      0.87      4464\n",
      "\n",
      "avg / total       0.95      0.95      0.95     22106\n",
      "\n"
     ]
    }
   ],
   "source": [
    "y_pred = gbm_ensemble.predict_proba(df_ensemble_test_dummies)[:, 1]\n",
    "y_final = [1 if y >= 0.5 else 0 for y in y_pred]\n",
    "print(classification_report(y_test, y_final))"
   ]
  },
  {
   "cell_type": "code",
   "execution_count": 146,
   "metadata": {},
   "outputs": [
    {
     "data": {
      "image/png": "[encoded data removed]",
      "text/plain": [
       "<Figure size 432x288 with 2 Axes>"
      ]
     },
     "metadata": {},
     "output_type": "display_data"
    }
   ],
   "source": [
    "cm = confusion_matrix(y_test, y_final)\n",
    "sns.set()\n",
    "ax= plt.subplot()\n",
    "sns.heatmap(cm, annot=True,annot_kws={\"size\": 16}, ax=ax, fmt='.0f')\n",
    "plt.title('Confusion matrix of the classifier')\n",
    "# ax.set_xticklabels([''] + labels)\n",
    "# ax.set_yticklabels([''] + labels)\n",
    "plt.xlabel('Predicted')\n",
    "plt.ylabel('True')\n",
    "plt.show()"
   ]
  },
  {
   "cell_type": "code",
   "execution_count": null,
   "metadata": {},
   "outputs": [],
   "source": []
  }
 ],
 "metadata": {
  "kernelspec": {
   "display_name": "Python 3",
   "language": "python",
   "name": "python3"
  },
  "language_info": {
   "codemirror_mode": {
    "name": "ipython",
    "version": 3
   },
   "file_extension": ".py",
   "mimetype": "text/x-python",
   "name": "python",
   "nbconvert_exporter": "python",
   "pygments_lexer": "ipython3",
   "version": "3.6.7"
  }
 },
 "nbformat": 4,
 "nbformat_minor": 2
}
