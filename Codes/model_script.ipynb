{
 "cells": [
  {
   "cell_type": "code",
   "execution_count": 2,
   "metadata": {},
   "outputs": [
    {
     "name": "stderr",
     "output_type": "stream",
     "text": [
      "c:\\users\\shanu\\anaconda3\\envs\\dl-udacity-pytorch\\lib\\site-packages\\sklearn\\ensemble\\weight_boosting.py:29: DeprecationWarning: numpy.core.umath_tests is an internal NumPy module and should not be imported. It will be removed in a future NumPy release.\n",
      "  from numpy.core.umath_tests import inner1d\n"
     ]
    }
   ],
   "source": [
    "import pandas as pd\n",
    "import numpy as np\n",
    "from sklearn.ensemble import VotingClassifier\n",
    "from sklearn.ensemble import RandomForestClassifier\n",
    "from sklearn.tree import DecisionTreeClassifier\n",
    "from sklearn.neighbors import KNeighborsClassifier\n",
    "from sklearn.linear_model import LogisticRegression\n",
    "from sklearn.ensemble import GradientBoostingClassifier\n",
    "from sklearn.neural_network import MLPClassifier\n",
    "from sklearn.metrics import classification_report\n",
    "from sklearn.model_selection import StratifiedKFold\n",
    "from sklearn.svm import SVC\n",
    "\n",
    "from sklearn import preprocessing\n",
    "from sklearn import metrics\n",
    "from sklearn.model_selection import train_test_split\n",
    "from sklearn.model_selection import GridSearchCV\n",
    "from sklearn.model_selection import StratifiedShuffleSplit\n",
    "from collections import Counter"
   ]
  },
  {
   "cell_type": "code",
   "execution_count": 3,
   "metadata": {},
   "outputs": [],
   "source": [
    "appointments = pd.read_csv('D:/DataIncubator_ChestXray/appointment_show_no-show/appointments_withFeatures.csv')"
   ]
  },
  {
   "cell_type": "code",
   "execution_count": 4,
   "metadata": {},
   "outputs": [
    {
     "data": {
      "text/plain": [
       "(110527, 39)"
      ]
     },
     "execution_count": 4,
     "metadata": {},
     "output_type": "execute_result"
    }
   ],
   "source": [
    "appointments.shape"
   ]
  },
  {
   "cell_type": "code",
   "execution_count": 10,
   "metadata": {},
   "outputs": [
    {
     "data": {
      "text/html": [
       "<div>\n",
       "<style scoped>\n",
       "    .dataframe tbody tr th:only-of-type {\n",
       "        vertical-align: middle;\n",
       "    }\n",
       "\n",
       "    .dataframe tbody tr th {\n",
       "        vertical-align: top;\n",
       "    }\n",
       "\n",
       "    .dataframe thead th {\n",
       "        text-align: right;\n",
       "    }\n",
       "</style>\n",
       "<table border=\"1\" class=\"dataframe\">\n",
       "  <thead>\n",
       "    <tr style=\"text-align: right;\">\n",
       "      <th></th>\n",
       "      <th>PatientId</th>\n",
       "      <th>AppointmentID</th>\n",
       "      <th>Gender</th>\n",
       "      <th>ScheduledDay</th>\n",
       "      <th>AppointmentDay</th>\n",
       "      <th>Age</th>\n",
       "      <th>Neighbourhood</th>\n",
       "      <th>Scholarship</th>\n",
       "      <th>Hipertension</th>\n",
       "      <th>Diabetes</th>\n",
       "      <th>...</th>\n",
       "      <th>DaysBeforeAppCat</th>\n",
       "      <th>NoShow</th>\n",
       "      <th>PreviousApp</th>\n",
       "      <th>PreviousNoShow</th>\n",
       "      <th>MissedAppointments</th>\n",
       "      <th>is_ITARARÉ</th>\n",
       "      <th>is_JESUS DE NAZARETH</th>\n",
       "      <th>is_SANTA CECÍLIA</th>\n",
       "      <th>is_SANTA CLARA</th>\n",
       "      <th>is_SANTOS DUMONT</th>\n",
       "    </tr>\n",
       "  </thead>\n",
       "  <tbody>\n",
       "    <tr>\n",
       "      <th>0</th>\n",
       "      <td>2.987250e+13</td>\n",
       "      <td>5642903</td>\n",
       "      <td>F</td>\n",
       "      <td>2016-04-29T18:38:08Z</td>\n",
       "      <td>2016-04-29T00:00:00Z</td>\n",
       "      <td>62</td>\n",
       "      <td>JARDIM DA PENHA</td>\n",
       "      <td>0</td>\n",
       "      <td>1</td>\n",
       "      <td>0</td>\n",
       "      <td>...</td>\n",
       "      <td>&gt; 45 days</td>\n",
       "      <td>False</td>\n",
       "      <td>1</td>\n",
       "      <td>0.0</td>\n",
       "      <td>0.0</td>\n",
       "      <td>0</td>\n",
       "      <td>0</td>\n",
       "      <td>0</td>\n",
       "      <td>0</td>\n",
       "      <td>0</td>\n",
       "    </tr>\n",
       "    <tr>\n",
       "      <th>1</th>\n",
       "      <td>5.589978e+14</td>\n",
       "      <td>5642503</td>\n",
       "      <td>M</td>\n",
       "      <td>2016-04-29T16:08:27Z</td>\n",
       "      <td>2016-04-29T00:00:00Z</td>\n",
       "      <td>56</td>\n",
       "      <td>JARDIM DA PENHA</td>\n",
       "      <td>0</td>\n",
       "      <td>0</td>\n",
       "      <td>0</td>\n",
       "      <td>...</td>\n",
       "      <td>&gt; 45 days</td>\n",
       "      <td>False</td>\n",
       "      <td>1</td>\n",
       "      <td>0.0</td>\n",
       "      <td>0.0</td>\n",
       "      <td>0</td>\n",
       "      <td>0</td>\n",
       "      <td>0</td>\n",
       "      <td>0</td>\n",
       "      <td>0</td>\n",
       "    </tr>\n",
       "    <tr>\n",
       "      <th>2</th>\n",
       "      <td>4.262962e+12</td>\n",
       "      <td>5642549</td>\n",
       "      <td>F</td>\n",
       "      <td>2016-04-29T16:19:04Z</td>\n",
       "      <td>2016-04-29T00:00:00Z</td>\n",
       "      <td>62</td>\n",
       "      <td>MATA DA PRAIA</td>\n",
       "      <td>0</td>\n",
       "      <td>0</td>\n",
       "      <td>0</td>\n",
       "      <td>...</td>\n",
       "      <td>&gt; 45 days</td>\n",
       "      <td>False</td>\n",
       "      <td>1</td>\n",
       "      <td>0.0</td>\n",
       "      <td>0.0</td>\n",
       "      <td>0</td>\n",
       "      <td>0</td>\n",
       "      <td>0</td>\n",
       "      <td>0</td>\n",
       "      <td>0</td>\n",
       "    </tr>\n",
       "    <tr>\n",
       "      <th>3</th>\n",
       "      <td>8.679512e+11</td>\n",
       "      <td>5642828</td>\n",
       "      <td>F</td>\n",
       "      <td>2016-04-29T17:29:31Z</td>\n",
       "      <td>2016-04-29T00:00:00Z</td>\n",
       "      <td>8</td>\n",
       "      <td>PONTAL DE CAMBURI</td>\n",
       "      <td>0</td>\n",
       "      <td>0</td>\n",
       "      <td>0</td>\n",
       "      <td>...</td>\n",
       "      <td>&gt; 45 days</td>\n",
       "      <td>False</td>\n",
       "      <td>1</td>\n",
       "      <td>0.0</td>\n",
       "      <td>1.0</td>\n",
       "      <td>0</td>\n",
       "      <td>0</td>\n",
       "      <td>0</td>\n",
       "      <td>0</td>\n",
       "      <td>0</td>\n",
       "    </tr>\n",
       "    <tr>\n",
       "      <th>4</th>\n",
       "      <td>8.841186e+12</td>\n",
       "      <td>5642494</td>\n",
       "      <td>F</td>\n",
       "      <td>2016-04-29T16:07:23Z</td>\n",
       "      <td>2016-04-29T00:00:00Z</td>\n",
       "      <td>56</td>\n",
       "      <td>JARDIM DA PENHA</td>\n",
       "      <td>0</td>\n",
       "      <td>1</td>\n",
       "      <td>1</td>\n",
       "      <td>...</td>\n",
       "      <td>&gt; 45 days</td>\n",
       "      <td>False</td>\n",
       "      <td>0</td>\n",
       "      <td>NaN</td>\n",
       "      <td>0.0</td>\n",
       "      <td>0</td>\n",
       "      <td>0</td>\n",
       "      <td>0</td>\n",
       "      <td>0</td>\n",
       "      <td>0</td>\n",
       "    </tr>\n",
       "  </tbody>\n",
       "</table>\n",
       "<p>5 rows × 39 columns</p>\n",
       "</div>"
      ],
      "text/plain": [
       "      PatientId  AppointmentID Gender          ScheduledDay  \\\n",
       "0  2.987250e+13        5642903      F  2016-04-29T18:38:08Z   \n",
       "1  5.589978e+14        5642503      M  2016-04-29T16:08:27Z   \n",
       "2  4.262962e+12        5642549      F  2016-04-29T16:19:04Z   \n",
       "3  8.679512e+11        5642828      F  2016-04-29T17:29:31Z   \n",
       "4  8.841186e+12        5642494      F  2016-04-29T16:07:23Z   \n",
       "\n",
       "         AppointmentDay  Age      Neighbourhood  Scholarship  Hipertension  \\\n",
       "0  2016-04-29T00:00:00Z   62    JARDIM DA PENHA            0             1   \n",
       "1  2016-04-29T00:00:00Z   56    JARDIM DA PENHA            0             0   \n",
       "2  2016-04-29T00:00:00Z   62      MATA DA PRAIA            0             0   \n",
       "3  2016-04-29T00:00:00Z    8  PONTAL DE CAMBURI            0             0   \n",
       "4  2016-04-29T00:00:00Z   56    JARDIM DA PENHA            0             1   \n",
       "\n",
       "   Diabetes       ...         DaysBeforeAppCat  NoShow  PreviousApp  \\\n",
       "0         0       ...                > 45 days   False            1   \n",
       "1         0       ...                > 45 days   False            1   \n",
       "2         0       ...                > 45 days   False            1   \n",
       "3         0       ...                > 45 days   False            1   \n",
       "4         1       ...                > 45 days   False            0   \n",
       "\n",
       "  PreviousNoShow MissedAppointments is_ITARARÉ is_JESUS DE NAZARETH  \\\n",
       "0            0.0                0.0          0                    0   \n",
       "1            0.0                0.0          0                    0   \n",
       "2            0.0                0.0          0                    0   \n",
       "3            0.0                1.0          0                    0   \n",
       "4            NaN                0.0          0                    0   \n",
       "\n",
       "   is_SANTA CECÍLIA  is_SANTA CLARA is_SANTOS DUMONT  \n",
       "0                 0               0                0  \n",
       "1                 0               0                0  \n",
       "2                 0               0                0  \n",
       "3                 0               0                0  \n",
       "4                 0               0                0  \n",
       "\n",
       "[5 rows x 39 columns]"
      ]
     },
     "execution_count": 10,
     "metadata": {},
     "output_type": "execute_result"
    }
   ],
   "source": [
    "appointments.head()"
   ]
  },
  {
   "cell_type": "code",
   "execution_count": 11,
   "metadata": {},
   "outputs": [
    {
     "name": "stdout",
     "output_type": "stream",
     "text": [
      "<class 'pandas.core.frame.DataFrame'>\n",
      "RangeIndex: 110527 entries, 0 to 110526\n",
      "Data columns (total 39 columns):\n",
      "PatientId                    110527 non-null float64\n",
      "AppointmentID                110527 non-null int64\n",
      "Gender                       110527 non-null object\n",
      "ScheduledDay                 110527 non-null object\n",
      "AppointmentDay               110527 non-null object\n",
      "Age                          110527 non-null int64\n",
      "Neighbourhood                110527 non-null object\n",
      "Scholarship                  110527 non-null int64\n",
      "Hipertension                 110527 non-null int64\n",
      "Diabetes                     110527 non-null int64\n",
      "Alcoholism                   110527 non-null int64\n",
      "Handcap                      110527 non-null int64\n",
      "SMS_received                 110527 non-null int64\n",
      "No-show                      110527 non-null object\n",
      "ScheduledDay_date            110527 non-null object\n",
      "AppointmentDay_date          110527 non-null object\n",
      "Scheduled_Day_of_week        110527 non-null object\n",
      "Scheduled_hour               110527 non-null int64\n",
      "Scheduled_minute             110527 non-null int64\n",
      "Scheduled_Month_of_year      110527 non-null object\n",
      "Scheduled_Day_of_month       110527 non-null int64\n",
      "Scheduled_year               110527 non-null int64\n",
      "Appointment_Day_of_week      110527 non-null object\n",
      "Appointment_Month_of_year    110527 non-null object\n",
      "Appointment_Day_of_month     110527 non-null int64\n",
      "Appointment_year             110527 non-null int64\n",
      "WeekdayScheduled             110527 non-null int64\n",
      "WeekdayAppointment           110527 non-null int64\n",
      "DaysBeforeApp                110527 non-null int64\n",
      "DaysBeforeAppCat             110527 non-null object\n",
      "NoShow                       110527 non-null bool\n",
      "PreviousApp                  110527 non-null int64\n",
      "PreviousNoShow               48228 non-null float64\n",
      "MissedAppointments           110527 non-null float64\n",
      "is_ITARARÉ                   110527 non-null int64\n",
      "is_JESUS DE NAZARETH         110527 non-null int64\n",
      "is_SANTA CECÍLIA             110527 non-null int64\n",
      "is_SANTA CLARA               110527 non-null int64\n",
      "is_SANTOS DUMONT             110527 non-null int64\n",
      "dtypes: bool(1), float64(3), int64(23), object(12)\n",
      "memory usage: 32.1+ MB\n"
     ]
    }
   ],
   "source": [
    "appointments.info()"
   ]
  },
  {
   "cell_type": "code",
   "execution_count": 12,
   "metadata": {},
   "outputs": [
    {
     "data": {
      "text/plain": [
       "Index(['PatientId', 'AppointmentID', 'Gender', 'ScheduledDay',\n",
       "       'AppointmentDay', 'Age', 'Neighbourhood', 'Scholarship', 'Hipertension',\n",
       "       'Diabetes', 'Alcoholism', 'Handcap', 'SMS_received', 'No-show',\n",
       "       'ScheduledDay_date', 'AppointmentDay_date', 'Scheduled_Day_of_week',\n",
       "       'Scheduled_hour', 'Scheduled_minute', 'Scheduled_Month_of_year',\n",
       "       'Scheduled_Day_of_month', 'Scheduled_year', 'Appointment_Day_of_week',\n",
       "       'Appointment_Month_of_year', 'Appointment_Day_of_month',\n",
       "       'Appointment_year', 'WeekdayScheduled', 'WeekdayAppointment',\n",
       "       'DaysBeforeApp', 'DaysBeforeAppCat', 'NoShow', 'PreviousApp',\n",
       "       'PreviousNoShow', 'MissedAppointments', 'is_ITARARÉ',\n",
       "       'is_JESUS DE NAZARETH', 'is_SANTA CECÍLIA', 'is_SANTA CLARA',\n",
       "       'is_SANTOS DUMONT'],\n",
       "      dtype='object')"
      ]
     },
     "execution_count": 12,
     "metadata": {},
     "output_type": "execute_result"
    }
   ],
   "source": [
    "appointments.columns"
   ]
  },
  {
   "cell_type": "code",
   "execution_count": 94,
   "metadata": {},
   "outputs": [],
   "source": [
    "appointments = appointments[appointments['Age'] >= 0]"
   ]
  },
  {
   "cell_type": "code",
   "execution_count": 95,
   "metadata": {},
   "outputs": [
    {
     "data": {
      "text/plain": [
       "(110526, 39)"
      ]
     },
     "execution_count": 95,
     "metadata": {},
     "output_type": "execute_result"
    }
   ],
   "source": [
    "appointments.shape"
   ]
  },
  {
   "cell_type": "code",
   "execution_count": 97,
   "metadata": {},
   "outputs": [],
   "source": [
    "train = appointments[['Gender', 'Age', 'Scholarship', 'Hipertension','Diabetes', 'Alcoholism', 'Handcap', \n",
    "                         'SMS_received', 'WeekdayScheduled', 'WeekdayAppointment', 'Appointment_Month_of_year',\n",
    "                         'DaysBeforeAppCat', 'MissedAppointments', 'is_ITARARÉ','is_JESUS DE NAZARETH', 'PreviousApp',\n",
    "                         'is_SANTA CECÍLIA', 'is_SANTA CLARA','is_SANTOS DUMONT']]"
   ]
  },
  {
   "cell_type": "code",
   "execution_count": 98,
   "metadata": {},
   "outputs": [],
   "source": [
    "x = pd.get_dummies(train)\n",
    "y = y = [0 if x == \"No\" else 1 for x in appointments['No-show']]"
   ]
  },
  {
   "cell_type": "code",
   "execution_count": 99,
   "metadata": {},
   "outputs": [
    {
     "data": {
      "text/plain": [
       "Index(['Age', 'Scholarship', 'Hipertension', 'Diabetes', 'Alcoholism',\n",
       "       'Handcap', 'SMS_received', 'WeekdayScheduled', 'WeekdayAppointment',\n",
       "       'MissedAppointments', 'is_ITARARÉ', 'is_JESUS DE NAZARETH',\n",
       "       'PreviousApp', 'is_SANTA CECÍLIA', 'is_SANTA CLARA', 'is_SANTOS DUMONT',\n",
       "       'Gender_F', 'Gender_M', 'Appointment_Month_of_year_April',\n",
       "       'Appointment_Month_of_year_June', 'Appointment_Month_of_year_May',\n",
       "       'DaysBeforeAppCat_0 days', 'DaysBeforeAppCat_1-2 days',\n",
       "       'DaysBeforeAppCat_20-30 days', 'DaysBeforeAppCat_3-7 days',\n",
       "       'DaysBeforeAppCat_30-45 days', 'DaysBeforeAppCat_8-20 days',\n",
       "       'DaysBeforeAppCat_> 45 days'],\n",
       "      dtype='object')"
      ]
     },
     "execution_count": 99,
     "metadata": {},
     "output_type": "execute_result"
    }
   ],
   "source": [
    "x.columns"
   ]
  },
  {
   "cell_type": "code",
   "execution_count": 100,
   "metadata": {},
   "outputs": [
    {
     "data": {
      "text/plain": [
       "Counter({0: 88207, 1: 22319})"
      ]
     },
     "execution_count": 100,
     "metadata": {},
     "output_type": "execute_result"
    }
   ],
   "source": [
    "Counter(y)"
   ]
  },
  {
   "cell_type": "code",
   "execution_count": 105,
   "metadata": {},
   "outputs": [],
   "source": [
    "x_train_val, x_test, y_train_val, y_test = train_test_split(x, y, test_size=0.2, stratify=y)"
   ]
  },
  {
   "cell_type": "code",
   "execution_count": 106,
   "metadata": {},
   "outputs": [
    {
     "name": "stdout",
     "output_type": "stream",
     "text": [
      "(88420, 28)\n",
      "(22106, 28)\n"
     ]
    }
   ],
   "source": [
    "print(x_train_val.shape)\n",
    "print(x_test.shape)"
   ]
  },
  {
   "cell_type": "code",
   "execution_count": 107,
   "metadata": {},
   "outputs": [
    {
     "name": "stdout",
     "output_type": "stream",
     "text": [
      "Counter({0: 70565, 1: 17855})\n",
      "Counter({0: 17642, 1: 4464})\n"
     ]
    }
   ],
   "source": [
    "print(Counter(y_train_val))\n",
    "print(Counter(y_test))"
   ]
  },
  {
   "cell_type": "code",
   "execution_count": 108,
   "metadata": {},
   "outputs": [
    {
     "name": "stdout",
     "output_type": "stream",
     "text": [
      "Fitting 2 folds for each of 8 candidates, totalling 16 fits\n"
     ]
    },
    {
     "name": "stderr",
     "output_type": "stream",
     "text": [
      "[Parallel(n_jobs=-1)]: Done  16 out of  16 | elapsed:   37.0s finished\n"
     ]
    },
    {
     "name": "stdout",
     "output_type": "stream",
     "text": [
      "Best score: 0.9251639900475006\n",
      "Best parameters: {'C': 5, 'penalty': 'l1'}\n"
     ]
    }
   ],
   "source": [
    "params = {'penalty':['l1', 'l2'], 'C':[2, 3, 5, 10]}\n",
    "\n",
    "lr = LogisticRegression(class_weight='balanced')\n",
    "clf = GridSearchCV(lr, param_grid = params, verbose=1, n_jobs = -1, cv=2)\n",
    "clf.fit(x_train_val, y_train_val)\n",
    "print('Best score: {}'.format(clf.best_score_))\n",
    "print('Best parameters: {}'.format(clf.best_params_))"
   ]
  },
  {
   "cell_type": "code",
   "execution_count": 109,
   "metadata": {},
   "outputs": [],
   "source": [
    "log_best = clf.best_estimator_"
   ]
  },
  {
   "cell_type": "code",
   "execution_count": 110,
   "metadata": {},
   "outputs": [],
   "source": [
    "y_pred = log_best.predict(x_test)"
   ]
  },
  {
   "cell_type": "code",
   "execution_count": 111,
   "metadata": {},
   "outputs": [
    {
     "name": "stdout",
     "output_type": "stream",
     "text": [
      "             precision    recall  f1-score   support\n",
      "\n",
      "          0       0.99      0.91      0.95     17642\n",
      "          1       0.73      0.96      0.83      4464\n",
      "\n",
      "avg / total       0.94      0.92      0.93     22106\n",
      "\n"
     ]
    }
   ],
   "source": [
    "print(classification_report(y_test, y_pred))"
   ]
  },
  {
   "cell_type": "code",
   "execution_count": 112,
   "metadata": {},
   "outputs": [],
   "source": [
    "y_pred = log_best.predict_proba(x_test)[:, 1]"
   ]
  },
  {
   "cell_type": "code",
   "execution_count": 113,
   "metadata": {},
   "outputs": [
    {
     "name": "stdout",
     "output_type": "stream",
     "text": [
      "0.4\n",
      "             precision    recall  f1-score   support\n",
      "\n",
      "          0       0.99      0.90      0.94     17642\n",
      "          1       0.71      0.97      0.82      4464\n",
      "\n",
      "avg / total       0.94      0.92      0.92     22106\n",
      "\n",
      "0.45\n",
      "             precision    recall  f1-score   support\n",
      "\n",
      "          0       0.99      0.90      0.95     17642\n",
      "          1       0.72      0.97      0.82      4464\n",
      "\n",
      "avg / total       0.94      0.92      0.92     22106\n",
      "\n",
      "0.5\n",
      "             precision    recall  f1-score   support\n",
      "\n",
      "          0       0.99      0.91      0.95     17642\n",
      "          1       0.73      0.96      0.83      4464\n",
      "\n",
      "avg / total       0.94      0.92      0.93     22106\n",
      "\n",
      "0.55\n",
      "             precision    recall  f1-score   support\n",
      "\n",
      "          0       0.99      0.93      0.96     17642\n",
      "          1       0.77      0.95      0.85      4464\n",
      "\n",
      "avg / total       0.94      0.93      0.94     22106\n",
      "\n",
      "0.6\n",
      "             precision    recall  f1-score   support\n",
      "\n",
      "          0       0.99      0.93      0.96     17642\n",
      "          1       0.78      0.95      0.85      4464\n",
      "\n",
      "avg / total       0.94      0.93      0.94     22106\n",
      "\n",
      "0.65\n",
      "             precision    recall  f1-score   support\n",
      "\n",
      "          0       0.98      0.93      0.96     17642\n",
      "          1       0.78      0.94      0.85      4464\n",
      "\n",
      "avg / total       0.94      0.94      0.94     22106\n",
      "\n",
      "0.7\n",
      "             precision    recall  f1-score   support\n",
      "\n",
      "          0       0.98      0.94      0.96     17642\n",
      "          1       0.80      0.92      0.85      4464\n",
      "\n",
      "avg / total       0.94      0.94      0.94     22106\n",
      "\n"
     ]
    }
   ],
   "source": [
    "\n",
    "def with_threshold(y_pred, threshold):\n",
    "    return [1 if y >= threshold else 0 for y in y_pred]\n",
    "\n",
    "threshold = [0.4, 0.45, 0.5, 0.55, 0.6, 0.65, 0.7]\n",
    "for t in threshold:\n",
    "    y_final=with_threshold(y_pred, t)\n",
    "    print(t)\n",
    "    print(classification_report(y_test, y_final))"
   ]
  },
  {
   "cell_type": "code",
   "execution_count": 114,
   "metadata": {},
   "outputs": [
    {
     "name": "stdout",
     "output_type": "stream",
     "text": [
      "Fitting 2 folds for each of 27 candidates, totalling 54 fits\n"
     ]
    },
    {
     "name": "stderr",
     "output_type": "stream",
     "text": [
      "[Parallel(n_jobs=-1)]: Done  34 tasks      | elapsed:  1.8min\n",
      "[Parallel(n_jobs=-1)]: Done  54 out of  54 | elapsed:  3.0min finished\n"
     ]
    },
    {
     "name": "stdout",
     "output_type": "stream",
     "text": [
      "Best score: 0.9436100429767021\n",
      "Best parameters: {'criterion': 'entropy', 'max_depth': 20, 'max_features': 8, 'n_estimators': 300}\n"
     ]
    }
   ],
   "source": [
    "params = {'n_estimators': [200, 300, 500], 'criterion': ['entropy'], 'max_depth': [5, 10, 20],\n",
    "          'max_features': [4, 6, 8]}\n",
    "\n",
    "rf = RandomForestClassifier(class_weight=\"balanced\")\n",
    "clf = GridSearchCV(rf, param_grid=params, n_jobs=-1, verbose=1, cv=2)\n",
    "clf.fit(x_train_val, y_train_val)\n",
    "print('Best score: {}'.format(clf.best_score_))\n",
    "print('Best parameters: {}'.format(clf.best_params_))"
   ]
  },
  {
   "cell_type": "code",
   "execution_count": 115,
   "metadata": {},
   "outputs": [],
   "source": [
    "rf_best = clf.best_estimator_"
   ]
  },
  {
   "cell_type": "code",
   "execution_count": 1,
   "metadata": {},
   "outputs": [
    {
     "ename": "NameError",
     "evalue": "name 'rf_best' is not defined",
     "output_type": "error",
     "traceback": [
      "\u001b[1;31m---------------------------------------------------------------------------\u001b[0m",
      "\u001b[1;31mNameError\u001b[0m                                 Traceback (most recent call last)",
      "\u001b[1;32m<ipython-input-1-67e039c3037e>\u001b[0m in \u001b[0;36m<module>\u001b[1;34m\u001b[0m\n\u001b[1;32m----> 1\u001b[1;33m \u001b[0my_pred\u001b[0m \u001b[1;33m=\u001b[0m \u001b[0mrf_best\u001b[0m\u001b[1;33m.\u001b[0m\u001b[0mpredict_proba\u001b[0m\u001b[1;33m(\u001b[0m\u001b[0mx_test\u001b[0m\u001b[1;33m)\u001b[0m\u001b[1;33m[\u001b[0m\u001b[1;33m:\u001b[0m\u001b[1;33m,\u001b[0m \u001b[1;36m1\u001b[0m\u001b[1;33m]\u001b[0m\u001b[1;33m\u001b[0m\u001b[1;33m\u001b[0m\u001b[0m\n\u001b[0m",
      "\u001b[1;31mNameError\u001b[0m: name 'rf_best' is not defined"
     ]
    }
   ],
   "source": [
    "y_pred = rf_best.predict_proba(x_test)[:, 1]"
   ]
  },
  {
   "cell_type": "code",
   "execution_count": 85,
   "metadata": {},
   "outputs": [
    {
     "name": "stdout",
     "output_type": "stream",
     "text": [
      "0.4\n",
      "             precision    recall  f1-score   support\n",
      "\n",
      "          0       0.98      0.95      0.97     17642\n",
      "          1       0.84      0.91      0.87      4464\n",
      "\n",
      "avg / total       0.95      0.95      0.95     22106\n",
      "\n",
      "0.45\n",
      "             precision    recall  f1-score   support\n",
      "\n",
      "          0       0.97      0.96      0.97     17642\n",
      "          1       0.86      0.88      0.87      4464\n",
      "\n",
      "avg / total       0.95      0.95      0.95     22106\n",
      "\n",
      "0.5\n",
      "             precision    recall  f1-score   support\n",
      "\n",
      "          0       0.96      0.97      0.97     17642\n",
      "          1       0.88      0.86      0.87      4464\n",
      "\n",
      "avg / total       0.95      0.95      0.95     22106\n",
      "\n",
      "0.55\n",
      "             precision    recall  f1-score   support\n",
      "\n",
      "          0       0.96      0.98      0.97     17642\n",
      "          1       0.90      0.82      0.86      4464\n",
      "\n",
      "avg / total       0.95      0.95      0.95     22106\n",
      "\n",
      "0.6\n",
      "             precision    recall  f1-score   support\n",
      "\n",
      "          0       0.95      0.99      0.97     17642\n",
      "          1       0.94      0.78      0.85      4464\n",
      "\n",
      "avg / total       0.95      0.95      0.94     22106\n",
      "\n",
      "0.65\n",
      "             precision    recall  f1-score   support\n",
      "\n",
      "          0       0.94      0.99      0.96     17642\n",
      "          1       0.96      0.75      0.84      4464\n",
      "\n",
      "avg / total       0.94      0.94      0.94     22106\n",
      "\n",
      "0.7\n",
      "             precision    recall  f1-score   support\n",
      "\n",
      "          0       0.93      0.99      0.96     17642\n",
      "          1       0.97      0.72      0.83      4464\n",
      "\n",
      "avg / total       0.94      0.94      0.94     22106\n",
      "\n"
     ]
    }
   ],
   "source": [
    "\n",
    "def with_threshold(y_pred, threshold):\n",
    "    return [1 if y >= threshold else 0 for y in y_pred]\n",
    "\n",
    "threshold = [0.4, 0.45, 0.5, 0.55, 0.6, 0.65, 0.7]\n",
    "for t in threshold:\n",
    "    y_final=with_threshold(y_pred, t)\n",
    "    print(t)\n",
    "    print(classification_report(y_test, y_final))"
   ]
  },
  {
   "cell_type": "code",
   "execution_count": 46,
   "metadata": {},
   "outputs": [],
   "source": [
    "y0 = len([x for x in y_train_val if x == 0])\n",
    "\n",
    "y1 = len([x for x in y_train_val if x == 1])\n",
    "\n",
    "\n",
    "w0=(y1/y0)*2\n",
    "w1=1\n",
    "\n",
    "sample_weights = [w0 if x == 0 else w1 for x in y_train_val]"
   ]
  },
  {
   "cell_type": "code",
   "execution_count": 47,
   "metadata": {},
   "outputs": [
    {
     "name": "stdout",
     "output_type": "stream",
     "text": [
      "Fitting 2 folds for each of 24 candidates, totalling 48 fits\n"
     ]
    },
    {
     "name": "stderr",
     "output_type": "stream",
     "text": [
      "[Parallel(n_jobs=-1)]: Done  48 out of  48 | elapsed:  5.5min finished\n"
     ]
    },
    {
     "name": "stdout",
     "output_type": "stream",
     "text": [
      "      Iter       Train Loss   Remaining Time \n",
      "         1           0.7781           17.00s\n",
      "         2           0.7740           16.35s\n",
      "         3           0.7498           15.50s\n",
      "         4           0.7071           14.69s\n",
      "         5           0.6959           17.01s\n",
      "         6           0.6510           16.55s\n",
      "         7           0.6446           16.35s\n",
      "         8           0.6007           16.44s\n",
      "         9           0.5853           16.47s\n",
      "        10           0.5671           16.80s\n",
      "        20           0.3681           16.07s\n",
      "        30           0.2794           16.14s\n",
      "        40           0.2393           15.25s\n",
      "        50           0.2173           14.33s\n",
      "        60           0.2018           13.53s\n",
      "        70           0.1916           12.77s\n",
      "        80           0.1834           12.14s\n",
      "        90           0.1776           11.48s\n",
      "       100           0.1729           10.85s\n",
      "       200           0.1566            5.06s\n",
      "       300           0.1522            0.00s\n",
      "Best score: 0.9481910405899051\n",
      "Best parameters: {'learning_rate': 0.1, 'loss': 'exponential', 'max_features': 8, 'n_estimators': 300}\n"
     ]
    }
   ],
   "source": [
    "params = {'n_estimators': [300,400], 'learning_rate': [0.1, 0.5], 'loss': [\"deviance\", \"exponential\"], \n",
    "          'max_features':[4, 6, 8]}\n",
    "\n",
    "gbm = GradientBoostingClassifier(verbose=1)\n",
    "clf = GridSearchCV(gbm, param_grid=params, n_jobs=-1, verbose=1, cv=2)\n",
    "clf.fit(x_train_val, y_train_val, sample_weights)\n",
    "print('Best score: {}'.format(clf.best_score_))\n",
    "print('Best parameters: {}'.format(clf.best_params_))"
   ]
  },
  {
   "cell_type": "code",
   "execution_count": 86,
   "metadata": {
    "colab": {
     "base_uri": "https://localhost:8080/",
     "height": 34
    },
    "colab_type": "code",
    "id": "XD5FLnXXX9s4",
    "outputId": "6b0cf38f-3097-415e-9de8-691b35fcf1d4"
   },
   "outputs": [],
   "source": [
    "gbm_best = clf.best_estimator_"
   ]
  },
  {
   "cell_type": "code",
   "execution_count": 49,
   "metadata": {
    "colab": {
     "base_uri": "https://localhost:8080/",
     "height": 173
    },
    "colab_type": "code",
    "id": "m0-hJ_BUX9s8",
    "outputId": "5eee8665-ff62-4da1-8fa3-890310ed721f"
   },
   "outputs": [
    {
     "name": "stdout",
     "output_type": "stream",
     "text": [
      "             precision    recall  f1-score   support\n",
      "\n",
      "          0       0.97      0.97      0.97     17642\n",
      "          1       0.87      0.87      0.87      4464\n",
      "\n",
      "avg / total       0.95      0.95      0.95     22106\n",
      "\n"
     ]
    }
   ],
   "source": [
    "y_pred = gbm_best.predict(x_test)\n",
    "print(classification_report(y_test, y_pred))"
   ]
  },
  {
   "cell_type": "code",
   "execution_count": 87,
   "metadata": {
    "colab": {},
    "colab_type": "code",
    "id": "4IYzGPyLX9s_"
   },
   "outputs": [],
   "source": [
    "y_pred = gbm_best.predict_proba(x_test)[:, 1]"
   ]
  },
  {
   "cell_type": "code",
   "execution_count": 88,
   "metadata": {
    "colab": {
     "base_uri": "https://localhost:8080/",
     "height": 1000
    },
    "colab_type": "code",
    "id": "UHgVClylCLnz",
    "outputId": "67473f0b-cfb0-4b8e-b24c-9a1cd85f0800"
   },
   "outputs": [
    {
     "name": "stdout",
     "output_type": "stream",
     "text": [
      "0.4\n",
      "             precision    recall  f1-score   support\n",
      "\n",
      "          0       0.98      0.95      0.97     17642\n",
      "          1       0.84      0.91      0.87      4464\n",
      "\n",
      "avg / total       0.95      0.95      0.95     22106\n",
      "\n",
      "0.45\n",
      "             precision    recall  f1-score   support\n",
      "\n",
      "          0       0.97      0.96      0.97     17642\n",
      "          1       0.86      0.88      0.87      4464\n",
      "\n",
      "avg / total       0.95      0.95      0.95     22106\n",
      "\n",
      "0.5\n",
      "             precision    recall  f1-score   support\n",
      "\n",
      "          0       0.96      0.97      0.97     17642\n",
      "          1       0.88      0.86      0.87      4464\n",
      "\n",
      "avg / total       0.95      0.95      0.95     22106\n",
      "\n",
      "0.55\n",
      "             precision    recall  f1-score   support\n",
      "\n",
      "          0       0.96      0.98      0.97     17642\n",
      "          1       0.90      0.82      0.86      4464\n",
      "\n",
      "avg / total       0.95      0.95      0.95     22106\n",
      "\n",
      "0.6\n",
      "             precision    recall  f1-score   support\n",
      "\n",
      "          0       0.95      0.99      0.97     17642\n",
      "          1       0.94      0.78      0.85      4464\n",
      "\n",
      "avg / total       0.95      0.95      0.94     22106\n",
      "\n",
      "0.65\n",
      "             precision    recall  f1-score   support\n",
      "\n",
      "          0       0.94      0.99      0.96     17642\n",
      "          1       0.96      0.75      0.84      4464\n",
      "\n",
      "avg / total       0.94      0.94      0.94     22106\n",
      "\n",
      "0.7\n",
      "             precision    recall  f1-score   support\n",
      "\n",
      "          0       0.93      0.99      0.96     17642\n",
      "          1       0.97      0.72      0.83      4464\n",
      "\n",
      "avg / total       0.94      0.94      0.94     22106\n",
      "\n"
     ]
    }
   ],
   "source": [
    "def with_threshold(y_pred, threshold):\n",
    "    return [1 if y >= threshold else 0 for y in y_pred]\n",
    "\n",
    "threshold = [0.4, 0.45, 0.5, 0.55, 0.6, 0.65, 0.7]\n",
    "for t in threshold:\n",
    "    y_final=with_threshold(y_pred, t)\n",
    "    print(t)\n",
    "    print(classification_report(y_test, y_final))"
   ]
  },
  {
   "cell_type": "code",
   "execution_count": 56,
   "metadata": {
    "colab": {
     "base_uri": "https://localhost:8080/",
     "height": 159
    },
    "colab_type": "code",
    "id": "nXaiOP7cCgDy",
    "outputId": "17044983-b7ce-4489-80a8-9b8341965faa"
   },
   "outputs": [
    {
     "name": "stdout",
     "output_type": "stream",
     "text": [
      "Fitting 2 folds for each of 12 candidates, totalling 24 fits\n"
     ]
    },
    {
     "name": "stderr",
     "output_type": "stream",
     "text": [
      "[Parallel(n_jobs=-1)]: Done  24 out of  24 | elapsed:  4.9min finished\n"
     ]
    },
    {
     "name": "stdout",
     "output_type": "stream",
     "text": [
      "Best score: 0.9477160403071668\n",
      "Best parameters: {'learning_rate': 0.1, 'max_depth': 5, 'n_estimators': 200}\n"
     ]
    }
   ],
   "source": [
    "params = {'n_estimators': [200, 400], 'learning_rate': [0.1, 0.5], 'max_depth': [5, 10, 20]}\n",
    "\n",
    "from xgboost.sklearn import XGBClassifier\n",
    "xgb = XGBClassifier(verbosity=1)\n",
    "clf = GridSearchCV(xgb, param_grid=params, n_jobs=-1, verbose=1, cv=2)\n",
    "clf.fit(x_train_val, y_train_val, sample_weights)\n",
    "\n",
    "print('Best score: {}'.format(clf.best_score_))\n",
    "print('Best parameters: {}'.format(clf.best_params_))"
   ]
  },
  {
   "cell_type": "code",
   "execution_count": 89,
   "metadata": {},
   "outputs": [],
   "source": [
    "xgb_best = clf.best_estimator_"
   ]
  },
  {
   "cell_type": "code",
   "execution_count": 58,
   "metadata": {
    "colab": {
     "base_uri": "https://localhost:8080/",
     "height": 173
    },
    "colab_type": "code",
    "id": "y3svSRrbGOCD",
    "outputId": "f11a98ab-8864-4ce8-ae61-a49fd1a003aa"
   },
   "outputs": [
    {
     "name": "stdout",
     "output_type": "stream",
     "text": [
      "             precision    recall  f1-score   support\n",
      "\n",
      "          0       0.96      0.97      0.97     17642\n",
      "          1       0.88      0.86      0.87      4464\n",
      "\n",
      "avg / total       0.95      0.95      0.95     22106\n",
      "\n"
     ]
    },
    {
     "name": "stderr",
     "output_type": "stream",
     "text": [
      "c:\\users\\shanu\\anaconda3\\envs\\dl-udacity-pytorch\\lib\\site-packages\\sklearn\\preprocessing\\label.py:151: DeprecationWarning: The truth value of an empty array is ambiguous. Returning False, but in future this will result in an error. Use `array.size > 0` to check that an array is not empty.\n",
      "  if diff:\n"
     ]
    }
   ],
   "source": [
    "y_pred = xgb_best.predict(x_test)\n",
    "print(classification_report(y_test, y_pred))"
   ]
  },
  {
   "cell_type": "code",
   "execution_count": 90,
   "metadata": {
    "colab": {},
    "colab_type": "code",
    "id": "NjeYgUKEGODD"
   },
   "outputs": [],
   "source": [
    "y_pred = xgb_best.predict_proba(x_test)[:, 1]"
   ]
  },
  {
   "cell_type": "code",
   "execution_count": 91,
   "metadata": {
    "colab": {
     "base_uri": "https://localhost:8080/",
     "height": 1000
    },
    "colab_type": "code",
    "id": "XwyIFd3tGODO",
    "outputId": "b67f6def-8528-4184-a5c2-d43fe66ebb38"
   },
   "outputs": [
    {
     "name": "stdout",
     "output_type": "stream",
     "text": [
      "0.4\n",
      "             precision    recall  f1-score   support\n",
      "\n",
      "          0       0.98      0.95      0.97     17642\n",
      "          1       0.84      0.91      0.87      4464\n",
      "\n",
      "avg / total       0.95      0.95      0.95     22106\n",
      "\n",
      "0.45\n",
      "             precision    recall  f1-score   support\n",
      "\n",
      "          0       0.97      0.96      0.97     17642\n",
      "          1       0.86      0.88      0.87      4464\n",
      "\n",
      "avg / total       0.95      0.95      0.95     22106\n",
      "\n",
      "0.5\n",
      "             precision    recall  f1-score   support\n",
      "\n",
      "          0       0.96      0.97      0.97     17642\n",
      "          1       0.88      0.86      0.87      4464\n",
      "\n",
      "avg / total       0.95      0.95      0.95     22106\n",
      "\n",
      "0.55\n",
      "             precision    recall  f1-score   support\n",
      "\n",
      "          0       0.96      0.98      0.97     17642\n",
      "          1       0.90      0.82      0.86      4464\n",
      "\n",
      "avg / total       0.95      0.95      0.95     22106\n",
      "\n",
      "0.6\n",
      "             precision    recall  f1-score   support\n",
      "\n",
      "          0       0.95      0.99      0.97     17642\n",
      "          1       0.94      0.78      0.85      4464\n",
      "\n",
      "avg / total       0.95      0.95      0.94     22106\n",
      "\n",
      "0.65\n",
      "             precision    recall  f1-score   support\n",
      "\n",
      "          0       0.94      0.99      0.96     17642\n",
      "          1       0.96      0.75      0.84      4464\n",
      "\n",
      "avg / total       0.94      0.94      0.94     22106\n",
      "\n",
      "0.7\n",
      "             precision    recall  f1-score   support\n",
      "\n",
      "          0       0.93      0.99      0.96     17642\n",
      "          1       0.97      0.72      0.83      4464\n",
      "\n",
      "avg / total       0.94      0.94      0.94     22106\n",
      "\n"
     ]
    }
   ],
   "source": [
    "def with_threshold(y_pred, threshold):\n",
    "    return [1 if y >= threshold else 0 for y in y_pred]\n",
    "\n",
    "threshold = [0.4, 0.45, 0.5, 0.55, 0.6, 0.65, 0.7]\n",
    "for t in threshold:\n",
    "    y_final=with_threshold(y_pred, t)\n",
    "    print(t)\n",
    "    print(classification_report(y_test, y_final))"
   ]
  },
  {
   "cell_type": "code",
   "execution_count": 61,
   "metadata": {
    "colab": {},
    "colab_type": "code",
    "id": "plqwzyMUGZyD"
   },
   "outputs": [
    {
     "data": {
      "text/plain": [
       "VotingClassifier(estimators=[('lr', LogisticRegression(C=5, class_weight='balanced', dual=False,\n",
       "          fit_intercept=True, intercept_scaling=1, max_iter=100,\n",
       "          multi_class='ovr', n_jobs=1, penalty='l2', random_state=None,\n",
       "          solver='liblinear', tol=0.0001, verbose=0, warm_start=False)), ('rf', Ran...\n",
       "       reg_lambda=1, scale_pos_weight=1, seed=None, silent=None,\n",
       "       subsample=1, verbosity=1))],\n",
       "         flatten_transform=None, n_jobs=-1, voting='soft', weights=None)"
      ]
     },
     "execution_count": 61,
     "metadata": {},
     "output_type": "execute_result"
    }
   ],
   "source": [
    "voted_class = VotingClassifier(estimators=[('lr', log_best),('rf', rf_best), ('gbm', gbm_best), ('xgb', xgb_best)], voting='soft', n_jobs=-1)\n",
    "\n",
    "voted_class.fit(x_train_val, y_train_val)"
   ]
  },
  {
   "cell_type": "code",
   "execution_count": 62,
   "metadata": {
    "colab": {},
    "colab_type": "code",
    "id": "xZJRtNvUHENh"
   },
   "outputs": [],
   "source": [
    "y_pred = voted_class.predict_proba(x_test)[:, 1]"
   ]
  },
  {
   "cell_type": "code",
   "execution_count": 63,
   "metadata": {
    "colab": {
     "base_uri": "https://localhost:8080/",
     "height": 1000
    },
    "colab_type": "code",
    "id": "wLExPiGnHENo",
    "outputId": "67473f0b-cfb0-4b8e-b24c-9a1cd85f0800"
   },
   "outputs": [
    {
     "name": "stdout",
     "output_type": "stream",
     "text": [
      "0.1\n",
      "             precision    recall  f1-score   support\n",
      "\n",
      "          0       1.00      0.88      0.93     17642\n",
      "          1       0.67      1.00      0.80      4464\n",
      "\n",
      "avg / total       0.93      0.90      0.91     22106\n",
      "\n",
      "0.2\n",
      "             precision    recall  f1-score   support\n",
      "\n",
      "          0       0.99      0.90      0.94     17642\n",
      "          1       0.71      0.98      0.83      4464\n",
      "\n",
      "avg / total       0.94      0.92      0.92     22106\n",
      "\n",
      "0.3\n",
      "             precision    recall  f1-score   support\n",
      "\n",
      "          0       0.99      0.92      0.96     17642\n",
      "          1       0.76      0.96      0.85      4464\n",
      "\n",
      "avg / total       0.94      0.93      0.93     22106\n",
      "\n",
      "0.4\n",
      "             precision    recall  f1-score   support\n",
      "\n",
      "          0       0.98      0.94      0.96     17642\n",
      "          1       0.79      0.94      0.86      4464\n",
      "\n",
      "avg / total       0.95      0.94      0.94     22106\n",
      "\n",
      "0.5\n",
      "             precision    recall  f1-score   support\n",
      "\n",
      "          0       0.98      0.95      0.97     17642\n",
      "          1       0.83      0.92      0.87      4464\n",
      "\n",
      "avg / total       0.95      0.95      0.95     22106\n",
      "\n",
      "0.6\n",
      "             precision    recall  f1-score   support\n",
      "\n",
      "          0       0.97      0.97      0.97     17642\n",
      "          1       0.87      0.88      0.87      4464\n",
      "\n",
      "avg / total       0.95      0.95      0.95     22106\n",
      "\n",
      "0.7\n",
      "             precision    recall  f1-score   support\n",
      "\n",
      "          0       0.95      0.99      0.97     17642\n",
      "          1       0.93      0.79      0.85      4464\n",
      "\n",
      "avg / total       0.95      0.95      0.94     22106\n",
      "\n",
      "0.8\n",
      "             precision    recall  f1-score   support\n",
      "\n",
      "          0       0.93      1.00      0.96     17642\n",
      "          1       0.98      0.71      0.82      4464\n",
      "\n",
      "avg / total       0.94      0.94      0.93     22106\n",
      "\n",
      "0.9\n",
      "             precision    recall  f1-score   support\n",
      "\n",
      "          0       0.92      1.00      0.96     17642\n",
      "          1       1.00      0.67      0.80      4464\n",
      "\n",
      "avg / total       0.94      0.93      0.93     22106\n",
      "\n"
     ]
    }
   ],
   "source": [
    "def with_threshold(y_pred, threshold):\n",
    "    return [1 if y >= threshold else 0 for y in y_pred]\n",
    "\n",
    "threshold = [0.1, 0.2, 0.3, 0.4, 0.5, 0.6, 0.7, 0.8, 0.9]\n",
    "for t in threshold:\n",
    "    y_final=with_threshold(y_pred, t)\n",
    "    print(t)\n",
    "    print(classification_report(y_test, y_final))"
   ]
  },
  {
   "cell_type": "code",
   "execution_count": 64,
   "metadata": {},
   "outputs": [],
   "source": [
    "def Stacking(model, x_train, y_train, test, n_fold):\n",
    "    folds = StratifiedKFold(n_splits=n_fold)\n",
    "    test_pred=np.empty((0))\n",
    "    train_pred = np.empty((0))\n",
    "    \n",
    "    for train_idx, val_idx in folds.split(x_train, y_train):\n",
    "        X_train, X_val, Y_train, Y_val = x_train.iloc[train_idx], x_train.iloc[val_idx], y_train.iloc[train_idx], y_train.iloc[val_idx]\n",
    "        \n",
    "        model.fit(X_train.values, Y_train)\n",
    "        pred = model.predict_proba(X_val.values)[:, 1]\n",
    "        train_pred = np.append(train_pred, pred, axis=0)\n",
    "        \n",
    "    pred_test = model.predict_proba(test)[:, 1]   \n",
    "    test_pred = np.append(test_pred, pred_test, axis=0)\n",
    "    return test_pred, train_pred"
   ]
  },
  {
   "cell_type": "code",
   "execution_count": 65,
   "metadata": {},
   "outputs": [],
   "source": [
    "y_train = pd.DataFrame(y_train_val)\n",
    "y_train.columns = [\"No-show\"]"
   ]
  },
  {
   "cell_type": "code",
   "execution_count": 67,
   "metadata": {},
   "outputs": [
    {
     "name": "stdout",
     "output_type": "stream",
     "text": [
      "LogisticRegression(C=5, class_weight='balanced', dual=False,\n",
      "          fit_intercept=True, intercept_scaling=1, max_iter=100,\n",
      "          multi_class='ovr', n_jobs=1, penalty='l2', random_state=None,\n",
      "          solver='liblinear', tol=0.0001, verbose=0, warm_start=False)\n"
     ]
    },
    {
     "name": "stderr",
     "output_type": "stream",
     "text": [
      "c:\\users\\shanu\\anaconda3\\envs\\dl-udacity-pytorch\\lib\\site-packages\\sklearn\\utils\\validation.py:578: DataConversionWarning: A column-vector y was passed when a 1d array was expected. Please change the shape of y to (n_samples, ), for example using ravel().\n",
      "  y = column_or_1d(y, warn=True)\n"
     ]
    },
    {
     "name": "stdout",
     "output_type": "stream",
     "text": [
      "RandomForestClassifier(bootstrap=True, class_weight='balanced',\n",
      "            criterion='entropy', max_depth=20, max_features=8,\n",
      "            max_leaf_nodes=None, min_impurity_decrease=0.0,\n",
      "            min_impurity_split=None, min_samples_leaf=1,\n",
      "            min_samples_split=2, min_weight_fraction_leaf=0.0,\n",
      "            n_estimators=500, n_jobs=1, oob_score=False, random_state=None,\n",
      "            verbose=0, warm_start=False)\n"
     ]
    },
    {
     "name": "stderr",
     "output_type": "stream",
     "text": [
      "c:\\users\\shanu\\anaconda3\\envs\\dl-udacity-pytorch\\lib\\site-packages\\ipykernel_launcher.py:9: DataConversionWarning: A column-vector y was passed when a 1d array was expected. Please change the shape of y to (n_samples,), for example using ravel().\n",
      "  if __name__ == '__main__':\n",
      "c:\\users\\shanu\\anaconda3\\envs\\dl-udacity-pytorch\\lib\\site-packages\\ipykernel_launcher.py:9: DataConversionWarning: A column-vector y was passed when a 1d array was expected. Please change the shape of y to (n_samples,), for example using ravel().\n",
      "  if __name__ == '__main__':\n"
     ]
    },
    {
     "name": "stdout",
     "output_type": "stream",
     "text": [
      "GradientBoostingClassifier(criterion='friedman_mse', init=None,\n",
      "              learning_rate=0.1, loss='exponential', max_depth=3,\n",
      "              max_features=8, max_leaf_nodes=None,\n",
      "              min_impurity_decrease=0.0, min_impurity_split=None,\n",
      "              min_samples_leaf=1, min_samples_split=2,\n",
      "              min_weight_fraction_leaf=0.0, n_estimators=300,\n",
      "              presort='auto', random_state=None, subsample=1.0, verbose=1,\n",
      "              warm_start=False)\n",
      "      Iter       Train Loss   Remaining Time \n",
      "         1           0.7442            6.26s\n",
      "         2           0.6933            7.88s\n",
      "         3           0.6483            7.31s\n"
     ]
    },
    {
     "name": "stderr",
     "output_type": "stream",
     "text": [
      "c:\\users\\shanu\\anaconda3\\envs\\dl-udacity-pytorch\\lib\\site-packages\\sklearn\\utils\\validation.py:578: DataConversionWarning: A column-vector y was passed when a 1d array was expected. Please change the shape of y to (n_samples, ), for example using ravel().\n",
      "  y = column_or_1d(y, warn=True)\n"
     ]
    },
    {
     "name": "stdout",
     "output_type": "stream",
     "text": [
      "         4           0.6121            7.60s\n",
      "         5           0.5711            8.41s\n",
      "         6           0.5516            9.24s\n",
      "         7           0.5212            9.73s\n",
      "         8           0.5157            9.90s\n",
      "         9           0.4855           10.25s\n",
      "        10           0.4667           10.15s\n",
      "        20           0.3340            8.99s\n",
      "        30           0.2551            7.64s\n",
      "        40           0.2219            6.93s\n",
      "        50           0.2022            6.46s\n",
      "        60           0.1888            6.26s\n",
      "        70           0.1840            6.03s\n",
      "        80           0.1777            6.00s\n",
      "        90           0.1738            6.12s\n",
      "       100           0.1680            6.15s\n",
      "       200           0.1551            2.69s\n",
      "       300           0.1505            0.00s\n",
      "      Iter       Train Loss   Remaining Time \n",
      "         1           0.7540           10.13s\n",
      "         2           0.7285           11.58s\n",
      "         3           0.6775           11.54s\n",
      "         4           0.6664           11.14s\n",
      "         5           0.6217           11.47s\n",
      "         6           0.6064           11.24s\n",
      "         7           0.5677           11.10s\n",
      "         8           0.5299           10.81s\n",
      "         9           0.4957           10.28s\n",
      "        10           0.4660            9.77s\n",
      "        20           0.3343            7.55s\n",
      "        30           0.2602            6.92s\n",
      "        40           0.2290            6.38s\n",
      "        50           0.2052            5.90s\n",
      "        60           0.1928            5.68s\n",
      "        70           0.1845            5.29s\n",
      "        80           0.1805            4.97s\n",
      "        90           0.1754            4.64s\n",
      "       100           0.1702            4.58s\n",
      "       200           0.1543            2.18s\n",
      "       300           0.1489            0.00s\n",
      "XGBClassifier(base_score=0.5, booster='gbtree', colsample_bylevel=1,\n",
      "       colsample_bynode=1, colsample_bytree=1, gamma=0, learning_rate=0.1,\n",
      "       max_delta_step=0, max_depth=5, min_child_weight=1, missing=None,\n",
      "       n_estimators=200, n_jobs=1, nthread=None,\n",
      "       objective='binary:logistic', random_state=0, reg_alpha=0,\n",
      "       reg_lambda=1, scale_pos_weight=1, seed=None, silent=None,\n",
      "       subsample=1, verbosity=1)\n"
     ]
    },
    {
     "name": "stderr",
     "output_type": "stream",
     "text": [
      "c:\\users\\shanu\\anaconda3\\envs\\dl-udacity-pytorch\\lib\\site-packages\\sklearn\\preprocessing\\label.py:95: DataConversionWarning: A column-vector y was passed when a 1d array was expected. Please change the shape of y to (n_samples, ), for example using ravel().\n",
      "  y = column_or_1d(y, warn=True)\n",
      "c:\\users\\shanu\\anaconda3\\envs\\dl-udacity-pytorch\\lib\\site-packages\\sklearn\\preprocessing\\label.py:128: DataConversionWarning: A column-vector y was passed when a 1d array was expected. Please change the shape of y to (n_samples, ), for example using ravel().\n",
      "  y = column_or_1d(y, warn=True)\n",
      "c:\\users\\shanu\\anaconda3\\envs\\dl-udacity-pytorch\\lib\\site-packages\\sklearn\\preprocessing\\label.py:95: DataConversionWarning: A column-vector y was passed when a 1d array was expected. Please change the shape of y to (n_samples, ), for example using ravel().\n",
      "  y = column_or_1d(y, warn=True)\n",
      "c:\\users\\shanu\\anaconda3\\envs\\dl-udacity-pytorch\\lib\\site-packages\\sklearn\\preprocessing\\label.py:128: DataConversionWarning: A column-vector y was passed when a 1d array was expected. Please change the shape of y to (n_samples, ), for example using ravel().\n",
      "  y = column_or_1d(y, warn=True)\n"
     ]
    }
   ],
   "source": [
    "models = [log_best, rf_best, gbm_best, xgb_best]\n",
    "df_ensemble_train = pd.DataFrame()\n",
    "df_ensemble_test = pd.DataFrame()\n",
    "\n",
    "x_train_val = pd.DataFrame(x_train_val)\n",
    "x_train_val.columns = x.columns\n",
    "\n",
    "for model in models:\n",
    "    print(model)\n",
    "    test_pred, train_pred = Stacking(model, x_train_val, y_train, x_test, 2)\n",
    "    \n",
    "    test_df = pd.DataFrame(test_pred)\n",
    "    train_df = pd.DataFrame(train_pred)\n",
    "    \n",
    "    df_ensemble_train = pd.concat([df_ensemble_train, train_df], axis=1)\n",
    "    df_ensemble_test = pd.concat([df_ensemble_test, test_df], axis=1)"
   ]
  },
  {
   "cell_type": "code",
   "execution_count": 68,
   "metadata": {},
   "outputs": [],
   "source": [
    "df_ensemble_train_dummies = pd.DataFrame(pd.get_dummies(df_ensemble_train))\n",
    "df_ensemble_train_dummies.columns = [\"lr\", \"rf\", 'gbm', 'xgb']\n",
    "df_ensemble_test_dummies = pd.DataFrame(pd.get_dummies(df_ensemble_test))\n",
    "df_ensemble_test_dummies.columns = [\"lr\", \"rf\", 'gbm', 'xgb']"
   ]
  },
  {
   "cell_type": "code",
   "execution_count": 69,
   "metadata": {},
   "outputs": [
    {
     "name": "stderr",
     "output_type": "stream",
     "text": [
      "c:\\users\\shanu\\anaconda3\\envs\\dl-udacity-pytorch\\lib\\site-packages\\sklearn\\preprocessing\\label.py:95: DataConversionWarning: A column-vector y was passed when a 1d array was expected. Please change the shape of y to (n_samples, ), for example using ravel().\n",
      "  y = column_or_1d(y, warn=True)\n",
      "c:\\users\\shanu\\anaconda3\\envs\\dl-udacity-pytorch\\lib\\site-packages\\sklearn\\preprocessing\\label.py:128: DataConversionWarning: A column-vector y was passed when a 1d array was expected. Please change the shape of y to (n_samples, ), for example using ravel().\n",
      "  y = column_or_1d(y, warn=True)\n"
     ]
    }
   ],
   "source": [
    "xgb_best = XGBClassifier(learning_rate=0.05, max_depth=10, n_estimators=400,verbosity=1).fit(df_ensemble_train_dummies, y_train)"
   ]
  },
  {
   "cell_type": "code",
   "execution_count": 70,
   "metadata": {},
   "outputs": [],
   "source": [
    "y_pred = xgb_best.predict_proba(df_ensemble_test_dummies)[:, 1]"
   ]
  },
  {
   "cell_type": "code",
   "execution_count": 71,
   "metadata": {},
   "outputs": [
    {
     "name": "stdout",
     "output_type": "stream",
     "text": [
      "0.05\n",
      "             precision    recall  f1-score   support\n",
      "\n",
      "          0       1.00      0.88      0.94     17642\n",
      "          1       0.68      0.99      0.81      4464\n",
      "\n",
      "avg / total       0.93      0.90      0.91     22106\n",
      "\n",
      "0.1\n",
      "             precision    recall  f1-score   support\n",
      "\n",
      "          0       0.99      0.91      0.95     17642\n",
      "          1       0.73      0.98      0.83      4464\n",
      "\n",
      "avg / total       0.94      0.92      0.92     22106\n",
      "\n",
      "0.2\n",
      "             precision    recall  f1-score   support\n",
      "\n",
      "          0       0.99      0.93      0.96     17642\n",
      "          1       0.77      0.96      0.85      4464\n",
      "\n",
      "avg / total       0.94      0.93      0.94     22106\n",
      "\n",
      "0.25\n",
      "             precision    recall  f1-score   support\n",
      "\n",
      "          0       0.99      0.93      0.96     17642\n",
      "          1       0.78      0.95      0.86      4464\n",
      "\n",
      "avg / total       0.95      0.94      0.94     22106\n",
      "\n",
      "0.3\n",
      "             precision    recall  f1-score   support\n",
      "\n",
      "          0       0.98      0.94      0.96     17642\n",
      "          1       0.80      0.94      0.86      4464\n",
      "\n",
      "avg / total       0.95      0.94      0.94     22106\n",
      "\n",
      "0.4\n",
      "             precision    recall  f1-score   support\n",
      "\n",
      "          0       0.98      0.95      0.97     17642\n",
      "          1       0.84      0.91      0.87      4464\n",
      "\n",
      "avg / total       0.95      0.95      0.95     22106\n",
      "\n",
      "0.5\n",
      "             precision    recall  f1-score   support\n",
      "\n",
      "          0       0.96      0.97      0.97     17642\n",
      "          1       0.88      0.85      0.87      4464\n",
      "\n",
      "avg / total       0.95      0.95      0.95     22106\n",
      "\n",
      "0.6\n",
      "             precision    recall  f1-score   support\n",
      "\n",
      "          0       0.95      0.98      0.97     17642\n",
      "          1       0.93      0.79      0.85      4464\n",
      "\n",
      "avg / total       0.94      0.94      0.94     22106\n",
      "\n",
      "0.7\n",
      "             precision    recall  f1-score   support\n",
      "\n",
      "          0       0.94      0.99      0.96     17642\n",
      "          1       0.96      0.73      0.83      4464\n",
      "\n",
      "avg / total       0.94      0.94      0.94     22106\n",
      "\n",
      "0.8\n",
      "             precision    recall  f1-score   support\n",
      "\n",
      "          0       0.93      1.00      0.96     17642\n",
      "          1       0.99      0.70      0.82      4464\n",
      "\n",
      "avg / total       0.94      0.94      0.93     22106\n",
      "\n",
      "0.85\n",
      "             precision    recall  f1-score   support\n",
      "\n",
      "          0       0.93      1.00      0.96     17642\n",
      "          1       0.99      0.69      0.81      4464\n",
      "\n",
      "avg / total       0.94      0.94      0.93     22106\n",
      "\n",
      "0.9\n",
      "             precision    recall  f1-score   support\n",
      "\n",
      "          0       0.92      1.00      0.96     17642\n",
      "          1       0.99      0.68      0.81      4464\n",
      "\n",
      "avg / total       0.94      0.93      0.93     22106\n",
      "\n"
     ]
    }
   ],
   "source": [
    "def with_threshold(y_pred, threshold):\n",
    "    return [1 if y >= threshold else 0 for y in y_pred]\n",
    "\n",
    "threshold = [0.05, 0.1, 0.2, 0.25, 0.3, 0.4, 0.5, 0.6, 0.7, 0.8, 0.85, 0.9]\n",
    "for t in threshold:\n",
    "    y_final=with_threshold(y_pred, t)\n",
    "    print(t)\n",
    "    print(classification_report(y_test, y_final))"
   ]
  },
  {
   "cell_type": "code",
   "execution_count": 72,
   "metadata": {},
   "outputs": [
    {
     "name": "stderr",
     "output_type": "stream",
     "text": [
      "c:\\users\\shanu\\anaconda3\\envs\\dl-udacity-pytorch\\lib\\site-packages\\sklearn\\utils\\validation.py:578: DataConversionWarning: A column-vector y was passed when a 1d array was expected. Please change the shape of y to (n_samples, ), for example using ravel().\n",
      "  y = column_or_1d(y, warn=True)\n"
     ]
    }
   ],
   "source": [
    "gbm_best = GradientBoostingClassifier(learning_rate=0.5, loss=\"exponential\", n_estimators= 400).fit(df_ensemble_train_dummies, y_train)"
   ]
  },
  {
   "cell_type": "code",
   "execution_count": 73,
   "metadata": {},
   "outputs": [],
   "source": [
    "y_pred = gbm_best.predict_proba(df_ensemble_test_dummies)[:, 1]"
   ]
  },
  {
   "cell_type": "code",
   "execution_count": 74,
   "metadata": {},
   "outputs": [
    {
     "name": "stdout",
     "output_type": "stream",
     "text": [
      "0.05\n",
      "             precision    recall  f1-score   support\n",
      "\n",
      "          0       1.00      0.90      0.94     17642\n",
      "          1       0.70      0.98      0.82      4464\n",
      "\n",
      "avg / total       0.94      0.91      0.92     22106\n",
      "\n",
      "0.1\n",
      "             precision    recall  f1-score   support\n",
      "\n",
      "          0       0.99      0.91      0.95     17642\n",
      "          1       0.74      0.97      0.84      4464\n",
      "\n",
      "avg / total       0.94      0.93      0.93     22106\n",
      "\n",
      "0.2\n",
      "             precision    recall  f1-score   support\n",
      "\n",
      "          0       0.98      0.93      0.96     17642\n",
      "          1       0.78      0.94      0.85      4464\n",
      "\n",
      "avg / total       0.94      0.94      0.94     22106\n",
      "\n",
      "0.25\n",
      "             precision    recall  f1-score   support\n",
      "\n",
      "          0       0.98      0.94      0.96     17642\n",
      "          1       0.79      0.93      0.86      4464\n",
      "\n",
      "avg / total       0.94      0.94      0.94     22106\n",
      "\n",
      "0.3\n",
      "             precision    recall  f1-score   support\n",
      "\n",
      "          0       0.98      0.95      0.96     17642\n",
      "          1       0.81      0.92      0.86      4464\n",
      "\n",
      "avg / total       0.94      0.94      0.94     22106\n",
      "\n",
      "0.4\n",
      "             precision    recall  f1-score   support\n",
      "\n",
      "          0       0.97      0.96      0.96     17642\n",
      "          1       0.84      0.89      0.87      4464\n",
      "\n",
      "avg / total       0.95      0.94      0.94     22106\n",
      "\n",
      "0.5\n",
      "             precision    recall  f1-score   support\n",
      "\n",
      "          0       0.96      0.97      0.97     17642\n",
      "          1       0.87      0.85      0.86      4464\n",
      "\n",
      "avg / total       0.94      0.94      0.94     22106\n",
      "\n",
      "0.54\n",
      "             precision    recall  f1-score   support\n",
      "\n",
      "          0       0.96      0.97      0.97     17642\n",
      "          1       0.88      0.84      0.86      4464\n",
      "\n",
      "avg / total       0.94      0.94      0.94     22106\n",
      "\n",
      "0.6\n",
      "             precision    recall  f1-score   support\n",
      "\n",
      "          0       0.95      0.98      0.96     17642\n",
      "          1       0.90      0.80      0.85      4464\n",
      "\n",
      "avg / total       0.94      0.94      0.94     22106\n",
      "\n",
      "0.7\n",
      "             precision    recall  f1-score   support\n",
      "\n",
      "          0       0.94      0.99      0.96     17642\n",
      "          1       0.93      0.76      0.84      4464\n",
      "\n",
      "avg / total       0.94      0.94      0.94     22106\n",
      "\n",
      "0.8\n",
      "             precision    recall  f1-score   support\n",
      "\n",
      "          0       0.93      0.99      0.96     17642\n",
      "          1       0.96      0.72      0.82      4464\n",
      "\n",
      "avg / total       0.94      0.94      0.93     22106\n",
      "\n",
      "0.85\n",
      "             precision    recall  f1-score   support\n",
      "\n",
      "          0       0.93      1.00      0.96     17642\n",
      "          1       0.98      0.70      0.82      4464\n",
      "\n",
      "avg / total       0.94      0.94      0.93     22106\n",
      "\n",
      "0.9\n",
      "             precision    recall  f1-score   support\n",
      "\n",
      "          0       0.93      1.00      0.96     17642\n",
      "          1       0.99      0.69      0.81      4464\n",
      "\n",
      "avg / total       0.94      0.94      0.93     22106\n",
      "\n"
     ]
    }
   ],
   "source": [
    "def with_threshold(y_pred, threshold):\n",
    "    return [1 if y >= threshold else 0 for y in y_pred]\n",
    "\n",
    "threshold = [0.05, 0.1, 0.2, 0.25, 0.3, 0.4, 0.5, 0.54, 0.6, 0.7, 0.8, 0.85, 0.9]\n",
    "for t in threshold:\n",
    "    y_final=with_threshold(y_pred, t)\n",
    "    print(t)\n",
    "    print(classification_report(y_test, y_final))"
   ]
  },
  {
   "cell_type": "code",
   "execution_count": 75,
   "metadata": {},
   "outputs": [
    {
     "name": "stderr",
     "output_type": "stream",
     "text": [
      "c:\\users\\shanu\\anaconda3\\envs\\dl-udacity-pytorch\\lib\\site-packages\\ipykernel_launcher.py:1: DataConversionWarning: A column-vector y was passed when a 1d array was expected. Please change the shape of y to (n_samples,), for example using ravel().\n",
      "  \"\"\"Entry point for launching an IPython kernel.\n"
     ]
    }
   ],
   "source": [
    "rf_best = RandomForestClassifier(criterion= 'entropy', max_depth= 20, n_estimators= 400).fit(df_ensemble_train_dummies, y_train)"
   ]
  },
  {
   "cell_type": "code",
   "execution_count": 76,
   "metadata": {},
   "outputs": [],
   "source": [
    "y_pred = rf_best.predict_proba(df_ensemble_test_dummies)[:, 1]"
   ]
  },
  {
   "cell_type": "code",
   "execution_count": 77,
   "metadata": {},
   "outputs": [
    {
     "name": "stdout",
     "output_type": "stream",
     "text": [
      "0.05\n",
      "             precision    recall  f1-score   support\n",
      "\n",
      "          0       1.00      0.88      0.94     17642\n",
      "          1       0.68      0.99      0.81      4464\n",
      "\n",
      "avg / total       0.93      0.90      0.91     22106\n",
      "\n",
      "0.1\n",
      "             precision    recall  f1-score   support\n",
      "\n",
      "          0       0.99      0.90      0.95     17642\n",
      "          1       0.72      0.98      0.83      4464\n",
      "\n",
      "avg / total       0.94      0.92      0.92     22106\n",
      "\n",
      "0.2\n",
      "             precision    recall  f1-score   support\n",
      "\n",
      "          0       0.99      0.93      0.96     17642\n",
      "          1       0.76      0.96      0.85      4464\n",
      "\n",
      "avg / total       0.94      0.93      0.94     22106\n",
      "\n",
      "0.25\n",
      "             precision    recall  f1-score   support\n",
      "\n",
      "          0       0.99      0.93      0.96     17642\n",
      "          1       0.78      0.95      0.86      4464\n",
      "\n",
      "avg / total       0.95      0.94      0.94     22106\n",
      "\n",
      "0.3\n",
      "             precision    recall  f1-score   support\n",
      "\n",
      "          0       0.99      0.94      0.96     17642\n",
      "          1       0.79      0.95      0.86      4464\n",
      "\n",
      "avg / total       0.95      0.94      0.94     22106\n",
      "\n",
      "0.4\n",
      "             precision    recall  f1-score   support\n",
      "\n",
      "          0       0.98      0.95      0.96     17642\n",
      "          1       0.83      0.91      0.87      4464\n",
      "\n",
      "avg / total       0.95      0.94      0.95     22106\n",
      "\n",
      "0.5\n",
      "             precision    recall  f1-score   support\n",
      "\n",
      "          0       0.96      0.97      0.97     17642\n",
      "          1       0.87      0.86      0.87      4464\n",
      "\n",
      "avg / total       0.95      0.95      0.95     22106\n",
      "\n",
      "0.54\n",
      "             precision    recall  f1-score   support\n",
      "\n",
      "          0       0.96      0.98      0.97     17642\n",
      "          1       0.90      0.83      0.86      4464\n",
      "\n",
      "avg / total       0.95      0.95      0.95     22106\n",
      "\n",
      "0.6\n",
      "             precision    recall  f1-score   support\n",
      "\n",
      "          0       0.95      0.99      0.97     17642\n",
      "          1       0.93      0.78      0.85      4464\n",
      "\n",
      "avg / total       0.94      0.94      0.94     22106\n",
      "\n",
      "0.7\n",
      "             precision    recall  f1-score   support\n",
      "\n",
      "          0       0.93      0.99      0.96     17642\n",
      "          1       0.97      0.72      0.83      4464\n",
      "\n",
      "avg / total       0.94      0.94      0.94     22106\n",
      "\n",
      "0.8\n",
      "             precision    recall  f1-score   support\n",
      "\n",
      "          0       0.93      1.00      0.96     17642\n",
      "          1       0.99      0.69      0.81      4464\n",
      "\n",
      "avg / total       0.94      0.94      0.93     22106\n",
      "\n",
      "0.85\n",
      "             precision    recall  f1-score   support\n",
      "\n",
      "          0       0.92      1.00      0.96     17642\n",
      "          1       1.00      0.68      0.81      4464\n",
      "\n",
      "avg / total       0.94      0.93      0.93     22106\n",
      "\n",
      "0.9\n",
      "             precision    recall  f1-score   support\n",
      "\n",
      "          0       0.92      1.00      0.96     17642\n",
      "          1       1.00      0.67      0.80      4464\n",
      "\n",
      "avg / total       0.94      0.93      0.93     22106\n",
      "\n"
     ]
    }
   ],
   "source": [
    "def with_threshold(y_pred, threshold):\n",
    "    return [1 if y >= threshold else 0 for y in y_pred]\n",
    "\n",
    "threshold = [0.05, 0.1, 0.2, 0.25, 0.3, 0.4, 0.5, 0.54, 0.6, 0.7, 0.8, 0.85, 0.9]\n",
    "for t in threshold:\n",
    "    y_final=with_threshold(y_pred, t)\n",
    "    print(t)\n",
    "    print(classification_report(y_test, y_final))"
   ]
  },
  {
   "cell_type": "markdown",
   "metadata": {},
   "source": [
    "The most stable classifier we got from is voted classifier"
   ]
  },
  {
   "cell_type": "code",
   "execution_count": 92,
   "metadata": {},
   "outputs": [
    {
     "name": "stdout",
     "output_type": "stream",
     "text": [
      "             precision    recall  f1-score   support\n",
      "\n",
      "          0       0.97      0.97      0.97     17642\n",
      "          1       0.87      0.88      0.87      4464\n",
      "\n",
      "avg / total       0.95      0.95      0.95     22106\n",
      "\n"
     ]
    }
   ],
   "source": [
    "y_pred = voted_class.predict_proba(x_test)[:, 1]\n",
    "y_final = [1 if y >= 0.6 else 0 for y in y_pred]\n",
    "print(classification_report(y_test, y_final))"
   ]
  },
  {
   "cell_type": "code",
   "execution_count": null,
   "metadata": {},
   "outputs": [],
   "source": []
  }
 ],
 "metadata": {
  "kernelspec": {
   "display_name": "Python 3",
   "language": "python",
   "name": "python3"
  },
  "language_info": {
   "codemirror_mode": {
    "name": "ipython",
    "version": 3
   },
   "file_extension": ".py",
   "mimetype": "text/x-python",
   "name": "python",
   "nbconvert_exporter": "python",
   "pygments_lexer": "ipython3",
   "version": "3.6.7"
  }
 },
 "nbformat": 4,
 "nbformat_minor": 2
}
